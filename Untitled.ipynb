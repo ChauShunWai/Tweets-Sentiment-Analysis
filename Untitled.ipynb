{
 "cells": [
  {
   "cell_type": "code",
   "execution_count": 1,
   "metadata": {},
   "outputs": [],
   "source": [
    "import pandas as pd\n",
    "import numpy as np\n",
    "import matplotlib.pyplot as plt\n",
    "import random\n",
    "import torch\n",
    "\n",
    "SEED=4211\n",
    "random.seed(SEED)\n",
    "torch.manual_seed(SEED)\n",
    "torch.backends.cudnn.deterministic = True\n",
    "if torch.cuda.is_available(): torch.cuda.manual_seed_all(SEED)"
   ]
  },
  {
   "cell_type": "code",
   "execution_count": 2,
   "metadata": {},
   "outputs": [],
   "source": [
    "df = pd.read_csv('./TheSocialDilemma.csv', sep=',')"
   ]
  },
  {
   "cell_type": "code",
   "execution_count": 3,
   "metadata": {},
   "outputs": [
    {
     "data": {
      "text/plain": [
       "(20068, 14)"
      ]
     },
     "execution_count": 3,
     "metadata": {},
     "output_type": "execute_result"
    }
   ],
   "source": [
    "df.shape"
   ]
  },
  {
   "cell_type": "code",
   "execution_count": 4,
   "metadata": {},
   "outputs": [
    {
     "name": "stdout",
     "output_type": "stream",
     "text": [
      "<class 'pandas.core.frame.DataFrame'>\n",
      "RangeIndex: 20068 entries, 0 to 20067\n",
      "Data columns (total 14 columns):\n",
      " #   Column            Non-Null Count  Dtype \n",
      "---  ------            --------------  ----- \n",
      " 0   user_name         20067 non-null  object\n",
      " 1   user_location     15860 non-null  object\n",
      " 2   user_description  18685 non-null  object\n",
      " 3   user_created      20068 non-null  object\n",
      " 4   user_followers    20068 non-null  int64 \n",
      " 5   user_friends      20068 non-null  int64 \n",
      " 6   user_favourites   20068 non-null  int64 \n",
      " 7   user_verified     20068 non-null  bool  \n",
      " 8   date              20068 non-null  object\n",
      " 9   text              20068 non-null  object\n",
      " 10  hashtags          15771 non-null  object\n",
      " 11  source            20068 non-null  object\n",
      " 12  is_retweet        20068 non-null  bool  \n",
      " 13  Sentiment         20068 non-null  object\n",
      "dtypes: bool(2), int64(3), object(9)\n",
      "memory usage: 1.9+ MB\n"
     ]
    }
   ],
   "source": [
    "df.info()"
   ]
  },
  {
   "cell_type": "code",
   "execution_count": 5,
   "metadata": {},
   "outputs": [
    {
     "data": {
      "text/plain": [
       "Index(['user_name', 'user_location', 'user_description', 'user_created',\n",
       "       'user_followers', 'user_friends', 'user_favourites', 'user_verified',\n",
       "       'date', 'text', 'hashtags', 'source', 'is_retweet', 'Sentiment'],\n",
       "      dtype='object')"
      ]
     },
     "execution_count": 5,
     "metadata": {},
     "output_type": "execute_result"
    }
   ],
   "source": [
    "df.columns"
   ]
  },
  {
   "cell_type": "code",
   "execution_count": 6,
   "metadata": {},
   "outputs": [
    {
     "data": {
      "text/html": [
       "<div>\n",
       "<style scoped>\n",
       "    .dataframe tbody tr th:only-of-type {\n",
       "        vertical-align: middle;\n",
       "    }\n",
       "\n",
       "    .dataframe tbody tr th {\n",
       "        vertical-align: top;\n",
       "    }\n",
       "\n",
       "    .dataframe thead th {\n",
       "        text-align: right;\n",
       "    }\n",
       "</style>\n",
       "<table border=\"1\" class=\"dataframe\">\n",
       "  <thead>\n",
       "    <tr style=\"text-align: right;\">\n",
       "      <th></th>\n",
       "      <th>user_followers</th>\n",
       "      <th>user_friends</th>\n",
       "      <th>user_favourites</th>\n",
       "    </tr>\n",
       "  </thead>\n",
       "  <tbody>\n",
       "    <tr>\n",
       "      <th>count</th>\n",
       "      <td>20068.0</td>\n",
       "      <td>20068.0</td>\n",
       "      <td>20068.0</td>\n",
       "    </tr>\n",
       "    <tr>\n",
       "      <th>mean</th>\n",
       "      <td>8805.132350009966</td>\n",
       "      <td>1117.0276559697031</td>\n",
       "      <td>13936.924606338449</td>\n",
       "    </tr>\n",
       "    <tr>\n",
       "      <th>std</th>\n",
       "      <td>154000.82437828052</td>\n",
       "      <td>5169.791715119368</td>\n",
       "      <td>30437.971875530442</td>\n",
       "    </tr>\n",
       "    <tr>\n",
       "      <th>min</th>\n",
       "      <td>0.0</td>\n",
       "      <td>0.0</td>\n",
       "      <td>0.0</td>\n",
       "    </tr>\n",
       "    <tr>\n",
       "      <th>25%</th>\n",
       "      <td>97.0</td>\n",
       "      <td>186.0</td>\n",
       "      <td>789.0</td>\n",
       "    </tr>\n",
       "    <tr>\n",
       "      <th>50%</th>\n",
       "      <td>366.0</td>\n",
       "      <td>441.0</td>\n",
       "      <td>3866.5</td>\n",
       "    </tr>\n",
       "    <tr>\n",
       "      <th>75%</th>\n",
       "      <td>1289.0</td>\n",
       "      <td>1001.0</td>\n",
       "      <td>13294.5</td>\n",
       "    </tr>\n",
       "    <tr>\n",
       "      <th>max</th>\n",
       "      <td>15624426.0</td>\n",
       "      <td>288625.0</td>\n",
       "      <td>708749.0</td>\n",
       "    </tr>\n",
       "  </tbody>\n",
       "</table>\n",
       "</div>"
      ],
      "text/plain": [
       "           user_followers        user_friends     user_favourites\n",
       "count             20068.0             20068.0             20068.0\n",
       "mean    8805.132350009966  1117.0276559697031  13936.924606338449\n",
       "std    154000.82437828052   5169.791715119368  30437.971875530442\n",
       "min                   0.0                 0.0                 0.0\n",
       "25%                  97.0               186.0               789.0\n",
       "50%                 366.0               441.0              3866.5\n",
       "75%                1289.0              1001.0             13294.5\n",
       "max            15624426.0            288625.0            708749.0"
      ]
     },
     "execution_count": 6,
     "metadata": {},
     "output_type": "execute_result"
    }
   ],
   "source": [
    "df.describe().apply(lambda s: s.apply('{0}'.format))"
   ]
  },
  {
   "cell_type": "code",
   "execution_count": 7,
   "metadata": {},
   "outputs": [
    {
     "data": {
      "text/plain": [
       "user_name              1\n",
       "user_location       4208\n",
       "user_description    1383\n",
       "user_created           0\n",
       "user_followers         0\n",
       "user_friends           0\n",
       "user_favourites        0\n",
       "user_verified          0\n",
       "date                   0\n",
       "text                   0\n",
       "hashtags            4297\n",
       "source                 0\n",
       "is_retweet             0\n",
       "Sentiment              0\n",
       "dtype: int64"
      ]
     },
     "execution_count": 7,
     "metadata": {},
     "output_type": "execute_result"
    }
   ],
   "source": [
    "df.isna().sum()"
   ]
  },
  {
   "cell_type": "code",
   "execution_count": 8,
   "metadata": {},
   "outputs": [
    {
     "name": "stderr",
     "output_type": "stream",
     "text": [
      "No handles with labels found to put in legend.\n"
     ]
    },
    {
     "data": {
      "image/png": "[encoded data removed]",
      "text/plain": [
       "<Figure size 432x288 with 1 Axes>"
      ]
     },
     "metadata": {
      "needs_background": "light"
     },
     "output_type": "display_data"
    }
   ],
   "source": [
    "fig, ax = plt.subplots()\n",
    "ax.bar(['user_location', 'user_description', 'hashtags', 'user_name'], df.isna().sum()[['user_location', 'user_description', 'hashtags', 'user_name']].values)\n",
    "\n",
    "ax.set_ylabel('No. of missing values w.r.t. columns')\n",
    "ax.set_xlabel('Column')\n",
    "ax.set_title('No. of missing values')\n",
    "ax.legend()\n",
    "\n",
    "plt.show()"
   ]
  },
  {
   "cell_type": "code",
   "execution_count": 9,
   "metadata": {},
   "outputs": [
    {
     "data": {
      "text/html": [
       "<div>\n",
       "<style scoped>\n",
       "    .dataframe tbody tr th:only-of-type {\n",
       "        vertical-align: middle;\n",
       "    }\n",
       "\n",
       "    .dataframe tbody tr th {\n",
       "        vertical-align: top;\n",
       "    }\n",
       "\n",
       "    .dataframe thead th {\n",
       "        text-align: right;\n",
       "    }\n",
       "</style>\n",
       "<table border=\"1\" class=\"dataframe\">\n",
       "  <thead>\n",
       "    <tr style=\"text-align: right;\">\n",
       "      <th></th>\n",
       "      <th>user_name</th>\n",
       "      <th>user_location</th>\n",
       "      <th>user_description</th>\n",
       "      <th>user_created</th>\n",
       "      <th>user_followers</th>\n",
       "      <th>user_friends</th>\n",
       "      <th>user_favourites</th>\n",
       "      <th>user_verified</th>\n",
       "      <th>date</th>\n",
       "      <th>text</th>\n",
       "      <th>hashtags</th>\n",
       "      <th>source</th>\n",
       "      <th>is_retweet</th>\n",
       "      <th>Sentiment</th>\n",
       "    </tr>\n",
       "  </thead>\n",
       "  <tbody>\n",
       "    <tr>\n",
       "      <th>13482</th>\n",
       "      <td>Diddy</td>\n",
       "      <td>NYC</td>\n",
       "      <td>📲 Text me (917) 746-1444</td>\n",
       "      <td>2008-12-18 17:52:09</td>\n",
       "      <td>15624426</td>\n",
       "      <td>1768</td>\n",
       "      <td>4167</td>\n",
       "      <td>True</td>\n",
       "      <td>2020-09-20 20:03:18</td>\n",
       "      <td>Just watched #TheSocialDilemma, I think it sho...</td>\n",
       "      <td>['TheSocialDilemma']</td>\n",
       "      <td>Twitter for iPhone</td>\n",
       "      <td>False</td>\n",
       "      <td>Positive</td>\n",
       "    </tr>\n",
       "    <tr>\n",
       "      <th>5503</th>\n",
       "      <td>tyler oakley</td>\n",
       "      <td>business: lisa@select.co</td>\n",
       "      <td>internet oversharer (🎤 pop-culture podcast eve...</td>\n",
       "      <td>2008-03-26 03:20:33</td>\n",
       "      <td>5702064</td>\n",
       "      <td>813</td>\n",
       "      <td>362481</td>\n",
       "      <td>True</td>\n",
       "      <td>2020-09-13 15:03:27</td>\n",
       "      <td>watched #TheSocialDilemma on Netflix last nigh...</td>\n",
       "      <td>['TheSocialDilemma']</td>\n",
       "      <td>Twitter for iPhone</td>\n",
       "      <td>False</td>\n",
       "      <td>Negative</td>\n",
       "    </tr>\n",
       "    <tr>\n",
       "      <th>6412</th>\n",
       "      <td>Mouni Roy</td>\n",
       "      <td>Mumbai, India</td>\n",
       "      <td>A Jane Austen heroine in a Christopher Nolan w...</td>\n",
       "      <td>2012-07-25 17:53:19</td>\n",
       "      <td>3150028</td>\n",
       "      <td>93</td>\n",
       "      <td>1003</td>\n",
       "      <td>True</td>\n",
       "      <td>2020-09-13 04:31:38</td>\n",
       "      <td>#TheSocialDilemma please watch if you haven’t ...</td>\n",
       "      <td>['TheSocialDilemma']</td>\n",
       "      <td>Twitter for iPhone</td>\n",
       "      <td>False</td>\n",
       "      <td>Neutral</td>\n",
       "    </tr>\n",
       "  </tbody>\n",
       "</table>\n",
       "</div>"
      ],
      "text/plain": [
       "          user_name             user_location  \\\n",
       "13482         Diddy                       NYC   \n",
       "5503   tyler oakley  business: lisa@select.co   \n",
       "6412      Mouni Roy             Mumbai, India   \n",
       "\n",
       "                                        user_description         user_created  \\\n",
       "13482                           📲 Text me (917) 746-1444  2008-12-18 17:52:09   \n",
       "5503   internet oversharer (🎤 pop-culture podcast eve...  2008-03-26 03:20:33   \n",
       "6412   A Jane Austen heroine in a Christopher Nolan w...  2012-07-25 17:53:19   \n",
       "\n",
       "       user_followers  user_friends  user_favourites  user_verified  \\\n",
       "13482        15624426          1768             4167           True   \n",
       "5503          5702064           813           362481           True   \n",
       "6412          3150028            93             1003           True   \n",
       "\n",
       "                      date                                               text  \\\n",
       "13482  2020-09-20 20:03:18  Just watched #TheSocialDilemma, I think it sho...   \n",
       "5503   2020-09-13 15:03:27  watched #TheSocialDilemma on Netflix last nigh...   \n",
       "6412   2020-09-13 04:31:38  #TheSocialDilemma please watch if you haven’t ...   \n",
       "\n",
       "                   hashtags              source  is_retweet Sentiment  \n",
       "13482  ['TheSocialDilemma']  Twitter for iPhone       False  Positive  \n",
       "5503   ['TheSocialDilemma']  Twitter for iPhone       False  Negative  \n",
       "6412   ['TheSocialDilemma']  Twitter for iPhone       False   Neutral  "
      ]
     },
     "execution_count": 9,
     "metadata": {},
     "output_type": "execute_result"
    }
   ],
   "source": [
    "df.drop_duplicates(subset='user_name').sort_values(by=['user_followers'], ascending=False).head(3)"
   ]
  },
  {
   "cell_type": "code",
   "execution_count": 10,
   "metadata": {},
   "outputs": [
    {
     "data": {
      "text/html": [
       "<div>\n",
       "<style scoped>\n",
       "    .dataframe tbody tr th:only-of-type {\n",
       "        vertical-align: middle;\n",
       "    }\n",
       "\n",
       "    .dataframe tbody tr th {\n",
       "        vertical-align: top;\n",
       "    }\n",
       "\n",
       "    .dataframe thead th {\n",
       "        text-align: right;\n",
       "    }\n",
       "</style>\n",
       "<table border=\"1\" class=\"dataframe\">\n",
       "  <thead>\n",
       "    <tr style=\"text-align: right;\">\n",
       "      <th></th>\n",
       "      <th>text</th>\n",
       "      <th>Sentiment</th>\n",
       "    </tr>\n",
       "  </thead>\n",
       "  <tbody>\n",
       "    <tr>\n",
       "      <th>13482</th>\n",
       "      <td>Just watched #TheSocialDilemma, I think it sho...</td>\n",
       "      <td>Positive</td>\n",
       "    </tr>\n",
       "  </tbody>\n",
       "</table>\n",
       "</div>"
      ],
      "text/plain": [
       "                                                    text Sentiment\n",
       "13482  Just watched #TheSocialDilemma, I think it sho...  Positive"
      ]
     },
     "execution_count": 10,
     "metadata": {},
     "output_type": "execute_result"
    }
   ],
   "source": [
    "df[df['user_name']=='Diddy'][['text','Sentiment']]"
   ]
  },
  {
   "cell_type": "code",
   "execution_count": 11,
   "metadata": {},
   "outputs": [
    {
     "data": {
      "text/html": [
       "<div>\n",
       "<style scoped>\n",
       "    .dataframe tbody tr th:only-of-type {\n",
       "        vertical-align: middle;\n",
       "    }\n",
       "\n",
       "    .dataframe tbody tr th {\n",
       "        vertical-align: top;\n",
       "    }\n",
       "\n",
       "    .dataframe thead th {\n",
       "        text-align: right;\n",
       "    }\n",
       "</style>\n",
       "<table border=\"1\" class=\"dataframe\">\n",
       "  <thead>\n",
       "    <tr style=\"text-align: right;\">\n",
       "      <th></th>\n",
       "      <th>user_name</th>\n",
       "      <th>user_location</th>\n",
       "      <th>user_description</th>\n",
       "      <th>user_created</th>\n",
       "      <th>user_followers</th>\n",
       "      <th>user_friends</th>\n",
       "      <th>user_favourites</th>\n",
       "      <th>user_verified</th>\n",
       "      <th>date</th>\n",
       "      <th>text</th>\n",
       "      <th>hashtags</th>\n",
       "      <th>source</th>\n",
       "      <th>is_retweet</th>\n",
       "      <th>Sentiment</th>\n",
       "    </tr>\n",
       "  </thead>\n",
       "  <tbody>\n",
       "    <tr>\n",
       "      <th>0</th>\n",
       "      <td>Mari Smith</td>\n",
       "      <td>San Diego, California</td>\n",
       "      <td>Premier Facebook Marketing Expert | Social Med...</td>\n",
       "      <td>2007-09-11 22:22:51</td>\n",
       "      <td>579942</td>\n",
       "      <td>288625</td>\n",
       "      <td>11610</td>\n",
       "      <td>False</td>\n",
       "      <td>2020-09-16 20:55:33</td>\n",
       "      <td>@musicmadmarc @SocialDilemma_ @netflix @Facebo...</td>\n",
       "      <td>NaN</td>\n",
       "      <td>Twitter Web App</td>\n",
       "      <td>False</td>\n",
       "      <td>Neutral</td>\n",
       "    </tr>\n",
       "    <tr>\n",
       "      <th>18306</th>\n",
       "      <td>LADY KINSEY SCHOFIELD</td>\n",
       "      <td>Los Angeles, CA</td>\n",
       "      <td>Lady of Glencoe. As seen on: 𝐄! 𝐂𝐡𝐚𝐧𝐧𝐞𝐥, 𝐌𝐓𝐕, ...</td>\n",
       "      <td>2008-07-30 09:34:26</td>\n",
       "      <td>221730</td>\n",
       "      <td>202669</td>\n",
       "      <td>77307</td>\n",
       "      <td>True</td>\n",
       "      <td>2020-10-17 02:37:17</td>\n",
       "      <td>Prince Harry and Meghan Markle have a new #soc...</td>\n",
       "      <td>['socialmedia']</td>\n",
       "      <td>Twitter Web App</td>\n",
       "      <td>False</td>\n",
       "      <td>Positive</td>\n",
       "    </tr>\n",
       "    <tr>\n",
       "      <th>6153</th>\n",
       "      <td>Matthew Garner</td>\n",
       "      <td>Bay Area</td>\n",
       "      <td>I like watching movies and writing about them....</td>\n",
       "      <td>2009-05-05 05:34:19</td>\n",
       "      <td>183604</td>\n",
       "      <td>169833</td>\n",
       "      <td>90</td>\n",
       "      <td>False</td>\n",
       "      <td>2020-09-13 07:35:40</td>\n",
       "      <td>I highly recommend watching #TheSocialDilemma ...</td>\n",
       "      <td>['TheSocialDilemma']</td>\n",
       "      <td>Twitter Web App</td>\n",
       "      <td>False</td>\n",
       "      <td>Negative</td>\n",
       "    </tr>\n",
       "  </tbody>\n",
       "</table>\n",
       "</div>"
      ],
      "text/plain": [
       "                   user_name          user_location  \\\n",
       "0                 Mari Smith  San Diego, California   \n",
       "18306  LADY KINSEY SCHOFIELD        Los Angeles, CA   \n",
       "6153          Matthew Garner               Bay Area   \n",
       "\n",
       "                                        user_description         user_created  \\\n",
       "0      Premier Facebook Marketing Expert | Social Med...  2007-09-11 22:22:51   \n",
       "18306  Lady of Glencoe. As seen on: 𝐄! 𝐂𝐡𝐚𝐧𝐧𝐞𝐥, 𝐌𝐓𝐕, ...  2008-07-30 09:34:26   \n",
       "6153   I like watching movies and writing about them....  2009-05-05 05:34:19   \n",
       "\n",
       "       user_followers  user_friends  user_favourites  user_verified  \\\n",
       "0              579942        288625            11610          False   \n",
       "18306          221730        202669            77307           True   \n",
       "6153           183604        169833               90          False   \n",
       "\n",
       "                      date                                               text  \\\n",
       "0      2020-09-16 20:55:33  @musicmadmarc @SocialDilemma_ @netflix @Facebo...   \n",
       "18306  2020-10-17 02:37:17  Prince Harry and Meghan Markle have a new #soc...   \n",
       "6153   2020-09-13 07:35:40  I highly recommend watching #TheSocialDilemma ...   \n",
       "\n",
       "                   hashtags           source  is_retweet Sentiment  \n",
       "0                       NaN  Twitter Web App       False   Neutral  \n",
       "18306       ['socialmedia']  Twitter Web App       False  Positive  \n",
       "6153   ['TheSocialDilemma']  Twitter Web App       False  Negative  "
      ]
     },
     "execution_count": 11,
     "metadata": {},
     "output_type": "execute_result"
    }
   ],
   "source": [
    "df.drop_duplicates(subset='user_name').sort_values(by=['user_friends'], ascending=False).head(3)"
   ]
  },
  {
   "cell_type": "code",
   "execution_count": 12,
   "metadata": {},
   "outputs": [
    {
     "data": {
      "text/html": [
       "<div>\n",
       "<style scoped>\n",
       "    .dataframe tbody tr th:only-of-type {\n",
       "        vertical-align: middle;\n",
       "    }\n",
       "\n",
       "    .dataframe tbody tr th {\n",
       "        vertical-align: top;\n",
       "    }\n",
       "\n",
       "    .dataframe thead th {\n",
       "        text-align: right;\n",
       "    }\n",
       "</style>\n",
       "<table border=\"1\" class=\"dataframe\">\n",
       "  <thead>\n",
       "    <tr style=\"text-align: right;\">\n",
       "      <th></th>\n",
       "      <th>text</th>\n",
       "      <th>Sentiment</th>\n",
       "    </tr>\n",
       "  </thead>\n",
       "  <tbody>\n",
       "    <tr>\n",
       "      <th>0</th>\n",
       "      <td>@musicmadmarc @SocialDilemma_ @netflix @Facebo...</td>\n",
       "      <td>Neutral</td>\n",
       "    </tr>\n",
       "    <tr>\n",
       "      <th>1</th>\n",
       "      <td>@musicmadmarc @SocialDilemma_ @netflix @Facebo...</td>\n",
       "      <td>Neutral</td>\n",
       "    </tr>\n",
       "    <tr>\n",
       "      <th>971</th>\n",
       "      <td>Have you watched The @SocialDilemma_ documenta...</td>\n",
       "      <td>Negative</td>\n",
       "    </tr>\n",
       "  </tbody>\n",
       "</table>\n",
       "</div>"
      ],
      "text/plain": [
       "                                                  text Sentiment\n",
       "0    @musicmadmarc @SocialDilemma_ @netflix @Facebo...   Neutral\n",
       "1    @musicmadmarc @SocialDilemma_ @netflix @Facebo...   Neutral\n",
       "971  Have you watched The @SocialDilemma_ documenta...  Negative"
      ]
     },
     "execution_count": 12,
     "metadata": {},
     "output_type": "execute_result"
    }
   ],
   "source": [
    "df[df['user_name']=='Mari Smith'][['text','Sentiment']]"
   ]
  },
  {
   "cell_type": "code",
   "execution_count": 13,
   "metadata": {},
   "outputs": [
    {
     "data": {
      "text/html": [
       "<div>\n",
       "<style scoped>\n",
       "    .dataframe tbody tr th:only-of-type {\n",
       "        vertical-align: middle;\n",
       "    }\n",
       "\n",
       "    .dataframe tbody tr th {\n",
       "        vertical-align: top;\n",
       "    }\n",
       "\n",
       "    .dataframe thead th {\n",
       "        text-align: right;\n",
       "    }\n",
       "</style>\n",
       "<table border=\"1\" class=\"dataframe\">\n",
       "  <thead>\n",
       "    <tr style=\"text-align: right;\">\n",
       "      <th></th>\n",
       "      <th>user_name</th>\n",
       "      <th>user_location</th>\n",
       "      <th>user_description</th>\n",
       "      <th>user_created</th>\n",
       "      <th>user_followers</th>\n",
       "      <th>user_friends</th>\n",
       "      <th>user_favourites</th>\n",
       "      <th>user_verified</th>\n",
       "      <th>date</th>\n",
       "      <th>text</th>\n",
       "      <th>hashtags</th>\n",
       "      <th>source</th>\n",
       "      <th>is_retweet</th>\n",
       "      <th>Sentiment</th>\n",
       "    </tr>\n",
       "  </thead>\n",
       "  <tbody>\n",
       "    <tr>\n",
       "      <th>16064</th>\n",
       "      <td>Zeeshan Masih</td>\n",
       "      <td>Cardiff, Wales</td>\n",
       "      <td>Pray as if it’s up to God, work as if it’s up ...</td>\n",
       "      <td>2011-11-16 23:30:05</td>\n",
       "      <td>2877</td>\n",
       "      <td>1500</td>\n",
       "      <td>708749</td>\n",
       "      <td>False</td>\n",
       "      <td>2020-09-18 13:43:32</td>\n",
       "      <td>The Social Dilemma. You won't use your social ...</td>\n",
       "      <td>NaN</td>\n",
       "      <td>Instagram</td>\n",
       "      <td>False</td>\n",
       "      <td>Positive</td>\n",
       "    </tr>\n",
       "    <tr>\n",
       "      <th>1093</th>\n",
       "      <td>Cassie, Director of the Better Bimbo Bureau</td>\n",
       "      <td>NaN</td>\n",
       "      <td>♀️🏳️‍⚧️🍈🍈🏳️‍🌈⚖🧜🏾‍♀️🔞black, bi, bimbo, lawyer\\n...</td>\n",
       "      <td>2009-10-19 18:51:58</td>\n",
       "      <td>4084</td>\n",
       "      <td>2088</td>\n",
       "      <td>607473</td>\n",
       "      <td>False</td>\n",
       "      <td>2020-09-16 01:57:56</td>\n",
       "      <td>People are talking about this bringing down Fa...</td>\n",
       "      <td>NaN</td>\n",
       "      <td>Twitter for Android</td>\n",
       "      <td>False</td>\n",
       "      <td>Negative</td>\n",
       "    </tr>\n",
       "    <tr>\n",
       "      <th>5956</th>\n",
       "      <td>Trebie</td>\n",
       "      <td>NaN</td>\n",
       "      <td>I tweet what i find interesting (which is a lo...</td>\n",
       "      <td>2011-02-07 01:38:42</td>\n",
       "      <td>6467</td>\n",
       "      <td>6338</td>\n",
       "      <td>468305</td>\n",
       "      <td>False</td>\n",
       "      <td>2020-09-13 10:05:27</td>\n",
       "      <td>I think the new show The Social Dilemma on Net...</td>\n",
       "      <td>NaN</td>\n",
       "      <td>Twitter Web App</td>\n",
       "      <td>False</td>\n",
       "      <td>Positive</td>\n",
       "    </tr>\n",
       "  </tbody>\n",
       "</table>\n",
       "</div>"
      ],
      "text/plain": [
       "                                         user_name   user_location  \\\n",
       "16064                                Zeeshan Masih  Cardiff, Wales   \n",
       "1093   Cassie, Director of the Better Bimbo Bureau             NaN   \n",
       "5956                                        Trebie             NaN   \n",
       "\n",
       "                                        user_description         user_created  \\\n",
       "16064  Pray as if it’s up to God, work as if it’s up ...  2011-11-16 23:30:05   \n",
       "1093   ♀️🏳️‍⚧️🍈🍈🏳️‍🌈⚖🧜🏾‍♀️🔞black, bi, bimbo, lawyer\\n...  2009-10-19 18:51:58   \n",
       "5956   I tweet what i find interesting (which is a lo...  2011-02-07 01:38:42   \n",
       "\n",
       "       user_followers  user_friends  user_favourites  user_verified  \\\n",
       "16064            2877          1500           708749          False   \n",
       "1093             4084          2088           607473          False   \n",
       "5956             6467          6338           468305          False   \n",
       "\n",
       "                      date                                               text  \\\n",
       "16064  2020-09-18 13:43:32  The Social Dilemma. You won't use your social ...   \n",
       "1093   2020-09-16 01:57:56  People are talking about this bringing down Fa...   \n",
       "5956   2020-09-13 10:05:27  I think the new show The Social Dilemma on Net...   \n",
       "\n",
       "      hashtags               source  is_retweet Sentiment  \n",
       "16064      NaN            Instagram       False  Positive  \n",
       "1093       NaN  Twitter for Android       False  Negative  \n",
       "5956       NaN      Twitter Web App       False  Positive  "
      ]
     },
     "execution_count": 13,
     "metadata": {},
     "output_type": "execute_result"
    }
   ],
   "source": [
    "df.drop_duplicates(subset='user_name').sort_values(by=['user_favourites'], ascending=False).head(3)"
   ]
  },
  {
   "cell_type": "code",
   "execution_count": 14,
   "metadata": {},
   "outputs": [
    {
     "data": {
      "text/html": [
       "<div>\n",
       "<style scoped>\n",
       "    .dataframe tbody tr th:only-of-type {\n",
       "        vertical-align: middle;\n",
       "    }\n",
       "\n",
       "    .dataframe tbody tr th {\n",
       "        vertical-align: top;\n",
       "    }\n",
       "\n",
       "    .dataframe thead th {\n",
       "        text-align: right;\n",
       "    }\n",
       "</style>\n",
       "<table border=\"1\" class=\"dataframe\">\n",
       "  <thead>\n",
       "    <tr style=\"text-align: right;\">\n",
       "      <th></th>\n",
       "      <th>text</th>\n",
       "      <th>Sentiment</th>\n",
       "    </tr>\n",
       "  </thead>\n",
       "  <tbody>\n",
       "    <tr>\n",
       "      <th>16064</th>\n",
       "      <td>The Social Dilemma. You won't use your social ...</td>\n",
       "      <td>Positive</td>\n",
       "    </tr>\n",
       "  </tbody>\n",
       "</table>\n",
       "</div>"
      ],
      "text/plain": [
       "                                                    text Sentiment\n",
       "16064  The Social Dilemma. You won't use your social ...  Positive"
      ]
     },
     "execution_count": 14,
     "metadata": {},
     "output_type": "execute_result"
    }
   ],
   "source": [
    "df[df['user_name']=='Zeeshan Masih'][['text','Sentiment']]"
   ]
  },
  {
   "cell_type": "code",
   "execution_count": 15,
   "metadata": {},
   "outputs": [
    {
     "data": {
      "text/plain": [
       "OurPact            218\n",
       "Dick Taylor         42\n",
       "#SERIOUSLY🇺🇲🤦       39\n",
       "Ayan Das            21\n",
       "Fave                21\n",
       "                  ... \n",
       "Pop Ai               1\n",
       "Hitesh Roy           1\n",
       "ERICA D              1\n",
       "Carolina Moreno      1\n",
       "Bianca Lynn          1\n",
       "Name: user_name, Length: 15737, dtype: int64"
      ]
     },
     "execution_count": 15,
     "metadata": {},
     "output_type": "execute_result"
    }
   ],
   "source": [
    "name_counts = df['user_name'].value_counts()\n",
    "name_counts"
   ]
  },
  {
   "cell_type": "code",
   "execution_count": 16,
   "metadata": {},
   "outputs": [
    {
     "data": {
      "text/plain": [
       "Text(0, 0.5, 'User name')"
      ]
     },
     "execution_count": 16,
     "metadata": {},
     "output_type": "execute_result"
    },
    {
     "name": "stderr",
     "output_type": "stream",
     "text": [
      "C:\\Users\\Klaus\\anaconda3\\lib\\site-packages\\matplotlib\\backends\\backend_agg.py:238: RuntimeWarning: Glyph 127482 missing from current font.\n",
      "  font.set_text(s, 0.0, flags=flags)\n",
      "C:\\Users\\Klaus\\anaconda3\\lib\\site-packages\\matplotlib\\backends\\backend_agg.py:238: RuntimeWarning: Glyph 127474 missing from current font.\n",
      "  font.set_text(s, 0.0, flags=flags)\n",
      "C:\\Users\\Klaus\\anaconda3\\lib\\site-packages\\matplotlib\\backends\\backend_agg.py:238: RuntimeWarning: Glyph 129318 missing from current font.\n",
      "  font.set_text(s, 0.0, flags=flags)\n",
      "C:\\Users\\Klaus\\anaconda3\\lib\\site-packages\\matplotlib\\backends\\backend_agg.py:201: RuntimeWarning: Glyph 127482 missing from current font.\n",
      "  font.set_text(s, 0, flags=flags)\n",
      "C:\\Users\\Klaus\\anaconda3\\lib\\site-packages\\matplotlib\\backends\\backend_agg.py:201: RuntimeWarning: Glyph 127474 missing from current font.\n",
      "  font.set_text(s, 0, flags=flags)\n",
      "C:\\Users\\Klaus\\anaconda3\\lib\\site-packages\\matplotlib\\backends\\backend_agg.py:201: RuntimeWarning: Glyph 129318 missing from current font.\n",
      "  font.set_text(s, 0, flags=flags)\n"
     ]
    },
    {
     "data": {
      "image/png": "[encoded data removed]",
      "text/plain": [
       "<Figure size 432x288 with 1 Axes>"
      ]
     },
     "metadata": {
      "needs_background": "light"
     },
     "output_type": "display_data"
    }
   ],
   "source": [
    "# s = s.groupby(np.where(s>20,s.index,'other')).sum()\n",
    "name_counts = name_counts[name_counts > 20].sort_values(ascending=True)\n",
    "name_counts = name_counts.plot.barh(title='Users who posted more than 20 tweets')\n",
    "name_counts.set_xlabel(\"No. of posts\")\n",
    "name_counts.set_ylabel(\"User name\")"
   ]
  },
  {
   "cell_type": "code",
   "execution_count": 17,
   "metadata": {},
   "outputs": [
    {
     "data": {
      "text/html": [
       "<div>\n",
       "<style scoped>\n",
       "    .dataframe tbody tr th:only-of-type {\n",
       "        vertical-align: middle;\n",
       "    }\n",
       "\n",
       "    .dataframe tbody tr th {\n",
       "        vertical-align: top;\n",
       "    }\n",
       "\n",
       "    .dataframe thead th {\n",
       "        text-align: right;\n",
       "    }\n",
       "</style>\n",
       "<table border=\"1\" class=\"dataframe\">\n",
       "  <thead>\n",
       "    <tr style=\"text-align: right;\">\n",
       "      <th></th>\n",
       "      <th>text</th>\n",
       "      <th>Sentiment</th>\n",
       "    </tr>\n",
       "  </thead>\n",
       "  <tbody>\n",
       "    <tr>\n",
       "      <th>10741</th>\n",
       "      <td>@JimBelushi @JimBelushi We agree it's a must s...</td>\n",
       "      <td>Positive</td>\n",
       "    </tr>\n",
       "    <tr>\n",
       "      <th>10744</th>\n",
       "      <td>@Pink @Pink It's a must watch and demonstrates...</td>\n",
       "      <td>Positive</td>\n",
       "    </tr>\n",
       "    <tr>\n",
       "      <th>10847</th>\n",
       "      <td>@SwarnaPrakashM1 @HumaneTech_ @NetflixIndia @S...</td>\n",
       "      <td>Positive</td>\n",
       "    </tr>\n",
       "    <tr>\n",
       "      <th>10850</th>\n",
       "      <td>@mindfulmeeps @YouTube @mindfulmeeps Why keepi...</td>\n",
       "      <td>Positive</td>\n",
       "    </tr>\n",
       "    <tr>\n",
       "      <th>10975</th>\n",
       "      <td>@IrishinSocal @IrishinSocal A must watch. OurP...</td>\n",
       "      <td>Positive</td>\n",
       "    </tr>\n",
       "  </tbody>\n",
       "</table>\n",
       "</div>"
      ],
      "text/plain": [
       "                                                    text Sentiment\n",
       "10741  @JimBelushi @JimBelushi We agree it's a must s...  Positive\n",
       "10744  @Pink @Pink It's a must watch and demonstrates...  Positive\n",
       "10847  @SwarnaPrakashM1 @HumaneTech_ @NetflixIndia @S...  Positive\n",
       "10850  @mindfulmeeps @YouTube @mindfulmeeps Why keepi...  Positive\n",
       "10975  @IrishinSocal @IrishinSocal A must watch. OurP...  Positive"
      ]
     },
     "execution_count": 17,
     "metadata": {},
     "output_type": "execute_result"
    }
   ],
   "source": [
    "df[df['user_name']=='OurPact'][['text','Sentiment']].head(5)"
   ]
  },
  {
   "cell_type": "code",
   "execution_count": 18,
   "metadata": {},
   "outputs": [
    {
     "data": {
      "text/plain": [
       "Text(0, 0.5, 'Sentiment')"
      ]
     },
     "execution_count": 18,
     "metadata": {},
     "output_type": "execute_result"
    },
    {
     "data": {
      "image/png": "[encoded data removed]",
      "text/plain": [
       "<Figure size 432x288 with 1 Axes>"
      ]
     },
     "metadata": {
      "needs_background": "light"
     },
     "output_type": "display_data"
    }
   ],
   "source": [
    "plot = df[df['user_name']=='OurPact']['Sentiment'].value_counts().plot.bar(title='Sentiment of user OurPact')\n",
    "plot.set_xlabel(\"No. of posts\")\n",
    "plot.set_ylabel(\"Sentiment\")"
   ]
  },
  {
   "cell_type": "code",
   "execution_count": 19,
   "metadata": {},
   "outputs": [
    {
     "data": {
      "text/plain": [
       "82"
      ]
     },
     "execution_count": 19,
     "metadata": {},
     "output_type": "execute_result"
    }
   ],
   "source": [
    "df['source'].nunique()"
   ]
  },
  {
   "cell_type": "code",
   "execution_count": 20,
   "metadata": {},
   "outputs": [
    {
     "data": {
      "text/plain": [
       "array(['Twitter Web App', 'Twitter for iPhone', 'Twitter for Android',\n",
       "       'Twitter for iPad', 'TweetDeck', 'Instagram', 'Buffer',\n",
       "       'Vero - True Social', 'Tweetlogix', 'Streamlabs Twitter',\n",
       "       'Sprout Social', 'Mailchimp', 'Hootsuite Inc.',\n",
       "       'Libsyn On-Publish', 'IFTTT', 'Echofon', 'Twitter for Mac',\n",
       "       'Plume\\xa0for\\xa0Android', 'Hypefury', 'LaterMedia', 'Cawbird',\n",
       "       'Twitter Media Studio', 'Rivuu Scheduling', 'Cloud Campaign',\n",
       "       'eClincher', 'HubSpot', 'Socialbakers', 'Tweetbot for iΟS',\n",
       "       'Fenix 2', 'SocialFlow', 'LinkedIn', 'UberSocial for Android',\n",
       "       'Twitter Web Client', 'WordPress.com', 'Oktopost', 'Tumblr',\n",
       "       'Thred', 'Bollywoodlife', 'Twitterrific for iOS', 'dlvr.it',\n",
       "       'Fenix for iOS', 'Dynamic Signal', 'Bitly',\n",
       "       'TweetCaster for Android', 'NoReruns.net TTools', 'Amplifr',\n",
       "       'Missinglettr', 'CoSchedule', 'TwInbox', 'Sprinklr Publishing',\n",
       "       'Talon Android', 'Twitter for Advertisers', 'ThreadReaderApp',\n",
       "       'Mobile Web (M2)', 'Spreaker', 'paulcrypto', 'Flying Eze',\n",
       "       'Twitterrific for Mac', 'Trakt.tv', 'Bridgy', 'Sharpspring',\n",
       "       'Gravity Forever', 'Flamingo for Android', 'Sendible',\n",
       "       'Zoho Social', 'Mastodon-Twitter Crossposter', 'Paper.li',\n",
       "       'Squarespace', 'Loomly', 'Happs News', 'The Tweeted Times',\n",
       "       'SocialPilot.co', 'ContentStudio.io', 'Hacker Noon',\n",
       "       'AgoraPulse Manager', 'Canva', 'ContentCal Studio', 'Planable',\n",
       "       'Postfity.com', 'Hocalwire Social Share', 'Reddit Official',\n",
       "       'Tweetbot for Mac'], dtype=object)"
      ]
     },
     "execution_count": 20,
     "metadata": {},
     "output_type": "execute_result"
    }
   ],
   "source": [
    "df['source'].unique()"
   ]
  },
  {
   "cell_type": "code",
   "execution_count": 21,
   "metadata": {},
   "outputs": [
    {
     "data": {
      "text/plain": [
       "Twitter for iPhone        9146\n",
       "Twitter for Android       5697\n",
       "Twitter Web App           4160\n",
       "Twitter for iPad           267\n",
       "TweetDeck                  209\n",
       "                          ... \n",
       "Squarespace                  1\n",
       "UberSocial for Android       1\n",
       "Dynamic Signal               1\n",
       "paulcrypto                   1\n",
       "Amplifr                      1\n",
       "Name: source, Length: 82, dtype: int64"
      ]
     },
     "execution_count": 21,
     "metadata": {},
     "output_type": "execute_result"
    }
   ],
   "source": [
    "df['source'].value_counts()"
   ]
  },
  {
   "cell_type": "code",
   "execution_count": 22,
   "metadata": {},
   "outputs": [
    {
     "data": {
      "image/png": "[encoded data removed]",
      "text/plain": [
       "<Figure size 504x504 with 1 Axes>"
      ]
     },
     "metadata": {},
     "output_type": "display_data"
    }
   ],
   "source": [
    "fig, ax = plt.subplots(figsize=(7,7))\n",
    "# ax.bar(df['source'].value_counts().index.array, df['source'].value_counts().values)\n",
    "values = np.concatenate((df['source'].value_counts().values[0:3], [np.sum(df['source'].value_counts().values[3:])]))\n",
    "labels = np.concatenate((df['source'].value_counts().index.array[0:3], ['Other']))\n",
    "ax.pie(values, labels=labels, autopct='%1.1f%%')   \n",
    "\n",
    "ax.set_title('% of the source')\n",
    "ax.legend()\n",
    "\n",
    "plt.show()"
   ]
  },
  {
   "cell_type": "code",
   "execution_count": 23,
   "metadata": {},
   "outputs": [
    {
     "data": {
      "text/plain": [
       "<AxesSubplot:>"
      ]
     },
     "execution_count": 23,
     "metadata": {},
     "output_type": "execute_result"
    },
    {
     "data": {
      "image/png": "[encoded data removed]",
      "text/plain": [
       "<Figure size 432x288 with 2 Axes>"
      ]
     },
     "metadata": {
      "needs_background": "light"
     },
     "output_type": "display_data"
    }
   ],
   "source": [
    "import seaborn as sns\n",
    "\n",
    "\n",
    "df_corr = df[['user_followers','user_friends','user_favourites']].iloc[:,:].corr()\n",
    "sns.heatmap(df_corr)"
   ]
  },
  {
   "cell_type": "code",
   "execution_count": 24,
   "metadata": {},
   "outputs": [
    {
     "name": "stdout",
     "output_type": "stream",
     "text": [
      "no. verified users 523\n",
      "no. non-verified users 15215\n"
     ]
    }
   ],
   "source": [
    "unique_users_df = df.drop_duplicates(subset='user_name')\n",
    "print('no. verified users', unique_users_df[unique_users_df.user_verified == True].shape[0])\n",
    "print('no. non-verified users', unique_users_df[unique_users_df.user_verified == False].shape[0])"
   ]
  },
  {
   "cell_type": "code",
   "execution_count": 25,
   "metadata": {},
   "outputs": [
    {
     "data": {
      "text/html": [
       "<div>\n",
       "<style scoped>\n",
       "    .dataframe tbody tr th:only-of-type {\n",
       "        vertical-align: middle;\n",
       "    }\n",
       "\n",
       "    .dataframe tbody tr th {\n",
       "        vertical-align: top;\n",
       "    }\n",
       "\n",
       "    .dataframe thead th {\n",
       "        text-align: right;\n",
       "    }\n",
       "</style>\n",
       "<table border=\"1\" class=\"dataframe\">\n",
       "  <thead>\n",
       "    <tr style=\"text-align: right;\">\n",
       "      <th></th>\n",
       "      <th>user_name</th>\n",
       "      <th>user_location</th>\n",
       "      <th>user_description</th>\n",
       "      <th>user_created</th>\n",
       "      <th>user_followers</th>\n",
       "      <th>user_friends</th>\n",
       "      <th>user_favourites</th>\n",
       "      <th>user_verified</th>\n",
       "      <th>date</th>\n",
       "      <th>text</th>\n",
       "      <th>hashtags</th>\n",
       "      <th>source</th>\n",
       "      <th>is_retweet</th>\n",
       "      <th>Sentiment</th>\n",
       "      <th>Negative</th>\n",
       "      <th>Neutral</th>\n",
       "      <th>Positive</th>\n",
       "    </tr>\n",
       "  </thead>\n",
       "  <tbody>\n",
       "    <tr>\n",
       "      <th>0</th>\n",
       "      <td>Mari Smith</td>\n",
       "      <td>San Diego, California</td>\n",
       "      <td>Premier Facebook Marketing Expert | Social Med...</td>\n",
       "      <td>2007-09-11 22:22:51</td>\n",
       "      <td>579942</td>\n",
       "      <td>288625</td>\n",
       "      <td>11610</td>\n",
       "      <td>False</td>\n",
       "      <td>2020-09-16 20:55:33</td>\n",
       "      <td>@musicmadmarc @SocialDilemma_ @netflix @Facebo...</td>\n",
       "      <td>NaN</td>\n",
       "      <td>Twitter Web App</td>\n",
       "      <td>False</td>\n",
       "      <td>Neutral</td>\n",
       "      <td>0</td>\n",
       "      <td>1</td>\n",
       "      <td>0</td>\n",
       "    </tr>\n",
       "    <tr>\n",
       "      <th>1</th>\n",
       "      <td>Mari Smith</td>\n",
       "      <td>San Diego, California</td>\n",
       "      <td>Premier Facebook Marketing Expert | Social Med...</td>\n",
       "      <td>2007-09-11 22:22:51</td>\n",
       "      <td>579942</td>\n",
       "      <td>288625</td>\n",
       "      <td>11610</td>\n",
       "      <td>False</td>\n",
       "      <td>2020-09-16 20:53:17</td>\n",
       "      <td>@musicmadmarc @SocialDilemma_ @netflix @Facebo...</td>\n",
       "      <td>NaN</td>\n",
       "      <td>Twitter Web App</td>\n",
       "      <td>False</td>\n",
       "      <td>Neutral</td>\n",
       "      <td>0</td>\n",
       "      <td>1</td>\n",
       "      <td>0</td>\n",
       "    </tr>\n",
       "    <tr>\n",
       "      <th>2</th>\n",
       "      <td>Varun Tyagi</td>\n",
       "      <td>Goa, India</td>\n",
       "      <td>Indian | Tech Solution Artist &amp; Hospitality Ex...</td>\n",
       "      <td>2009-09-06 10:36:01</td>\n",
       "      <td>257</td>\n",
       "      <td>204</td>\n",
       "      <td>475</td>\n",
       "      <td>False</td>\n",
       "      <td>2020-09-16 20:51:57</td>\n",
       "      <td>Go watch “The Social Dilemma” on Netflix!\\n\\nI...</td>\n",
       "      <td>NaN</td>\n",
       "      <td>Twitter for iPhone</td>\n",
       "      <td>False</td>\n",
       "      <td>Positive</td>\n",
       "      <td>0</td>\n",
       "      <td>0</td>\n",
       "      <td>1</td>\n",
       "    </tr>\n",
       "    <tr>\n",
       "      <th>3</th>\n",
       "      <td>Casey Conway</td>\n",
       "      <td>Sydney, New South Wales</td>\n",
       "      <td>Head of Diversity &amp; Inclusion @RugbyAU | It's ...</td>\n",
       "      <td>2012-12-28 21:45:06</td>\n",
       "      <td>11782</td>\n",
       "      <td>1033</td>\n",
       "      <td>12219</td>\n",
       "      <td>True</td>\n",
       "      <td>2020-09-16 20:51:46</td>\n",
       "      <td>I watched #TheSocialDilemma last night. I’m sc...</td>\n",
       "      <td>['TheSocialDilemma']</td>\n",
       "      <td>Twitter for iPhone</td>\n",
       "      <td>False</td>\n",
       "      <td>Negative</td>\n",
       "      <td>1</td>\n",
       "      <td>0</td>\n",
       "      <td>0</td>\n",
       "    </tr>\n",
       "    <tr>\n",
       "      <th>4</th>\n",
       "      <td>Charlotte Paul</td>\n",
       "      <td>Darlington</td>\n",
       "      <td>Instagram Charlottejyates</td>\n",
       "      <td>2012-05-28 20:43:08</td>\n",
       "      <td>278</td>\n",
       "      <td>387</td>\n",
       "      <td>5850</td>\n",
       "      <td>False</td>\n",
       "      <td>2020-09-16 20:51:11</td>\n",
       "      <td>The problem of me being on my phone most the t...</td>\n",
       "      <td>['TheSocialDilemma']</td>\n",
       "      <td>Twitter for iPhone</td>\n",
       "      <td>False</td>\n",
       "      <td>Positive</td>\n",
       "      <td>0</td>\n",
       "      <td>0</td>\n",
       "      <td>1</td>\n",
       "    </tr>\n",
       "    <tr>\n",
       "      <th>...</th>\n",
       "      <td>...</td>\n",
       "      <td>...</td>\n",
       "      <td>...</td>\n",
       "      <td>...</td>\n",
       "      <td>...</td>\n",
       "      <td>...</td>\n",
       "      <td>...</td>\n",
       "      <td>...</td>\n",
       "      <td>...</td>\n",
       "      <td>...</td>\n",
       "      <td>...</td>\n",
       "      <td>...</td>\n",
       "      <td>...</td>\n",
       "      <td>...</td>\n",
       "      <td>...</td>\n",
       "      <td>...</td>\n",
       "      <td>...</td>\n",
       "    </tr>\n",
       "    <tr>\n",
       "      <th>20063</th>\n",
       "      <td>scp.</td>\n",
       "      <td>NaN</td>\n",
       "      <td>“Through love, all is possible.” - SJM - See m...</td>\n",
       "      <td>2013-02-19 00:55:12</td>\n",
       "      <td>431</td>\n",
       "      <td>193</td>\n",
       "      <td>32958</td>\n",
       "      <td>False</td>\n",
       "      <td>2020-10-09 00:25:53</td>\n",
       "      <td>#TheSocialDilemma yalll.... this shit... we kn...</td>\n",
       "      <td>['TheSocialDilemma']</td>\n",
       "      <td>Twitter for iPhone</td>\n",
       "      <td>False</td>\n",
       "      <td>Negative</td>\n",
       "      <td>1</td>\n",
       "      <td>0</td>\n",
       "      <td>0</td>\n",
       "    </tr>\n",
       "    <tr>\n",
       "      <th>20064</th>\n",
       "      <td>Dono6971</td>\n",
       "      <td>United States</td>\n",
       "      <td>Father, Husband, and a Dude|| Love Notre Dame ...</td>\n",
       "      <td>2010-01-06 04:08:41</td>\n",
       "      <td>172</td>\n",
       "      <td>96</td>\n",
       "      <td>50159</td>\n",
       "      <td>False</td>\n",
       "      <td>2020-10-09 00:24:45</td>\n",
       "      <td>Peeps:\\n\\nFind 90 minutes this weekend and wat...</td>\n",
       "      <td>NaN</td>\n",
       "      <td>Twitter for iPhone</td>\n",
       "      <td>False</td>\n",
       "      <td>Positive</td>\n",
       "      <td>0</td>\n",
       "      <td>0</td>\n",
       "      <td>1</td>\n",
       "    </tr>\n",
       "    <tr>\n",
       "      <th>20065</th>\n",
       "      <td>Remi Shores</td>\n",
       "      <td>NaN</td>\n",
       "      <td>Genderfluid / They/Them/Theirs / Queer Christi...</td>\n",
       "      <td>2012-05-16 23:49:13</td>\n",
       "      <td>387</td>\n",
       "      <td>652</td>\n",
       "      <td>7885</td>\n",
       "      <td>False</td>\n",
       "      <td>2020-10-09 00:11:42</td>\n",
       "      <td>So you watched #thesocialdilemma, or have been...</td>\n",
       "      <td>['thesocialdilemma']</td>\n",
       "      <td>Twitter Web App</td>\n",
       "      <td>False</td>\n",
       "      <td>Negative</td>\n",
       "      <td>1</td>\n",
       "      <td>0</td>\n",
       "      <td>0</td>\n",
       "    </tr>\n",
       "    <tr>\n",
       "      <th>20066</th>\n",
       "      <td>Scott the Great and Terrible</td>\n",
       "      <td>NaN</td>\n",
       "      <td>I can't recall the taste of food, nor the soun...</td>\n",
       "      <td>2020-03-16 18:20:31</td>\n",
       "      <td>103</td>\n",
       "      <td>84</td>\n",
       "      <td>2976</td>\n",
       "      <td>False</td>\n",
       "      <td>2020-10-09 00:10:16</td>\n",
       "      <td>Good social media advice:\\n\\nChoose the thing ...</td>\n",
       "      <td>['TheSocialDilemma']</td>\n",
       "      <td>Twitter Web App</td>\n",
       "      <td>False</td>\n",
       "      <td>Positive</td>\n",
       "      <td>0</td>\n",
       "      <td>0</td>\n",
       "      <td>1</td>\n",
       "    </tr>\n",
       "    <tr>\n",
       "      <th>20067</th>\n",
       "      <td>Get Outside Media</td>\n",
       "      <td>Telluride, CO</td>\n",
       "      <td>CREATIVE AGENCY | BRAND + CONTENT + DESIGN + P...</td>\n",
       "      <td>2018-07-14 04:44:23</td>\n",
       "      <td>133</td>\n",
       "      <td>898</td>\n",
       "      <td>1131</td>\n",
       "      <td>False</td>\n",
       "      <td>2020-10-09 00:00:31</td>\n",
       "      <td>Boulder director Jeff Orlowski hopes viewers o...</td>\n",
       "      <td>['TheSocialDilemma']</td>\n",
       "      <td>Hootsuite Inc.</td>\n",
       "      <td>False</td>\n",
       "      <td>Neutral</td>\n",
       "      <td>0</td>\n",
       "      <td>1</td>\n",
       "      <td>0</td>\n",
       "    </tr>\n",
       "  </tbody>\n",
       "</table>\n",
       "<p>20068 rows × 17 columns</p>\n",
       "</div>"
      ],
      "text/plain": [
       "                          user_name            user_location  \\\n",
       "0                        Mari Smith    San Diego, California   \n",
       "1                        Mari Smith    San Diego, California   \n",
       "2                       Varun Tyagi               Goa, India   \n",
       "3                      Casey Conway  Sydney, New South Wales   \n",
       "4                    Charlotte Paul               Darlington   \n",
       "...                             ...                      ...   \n",
       "20063                          scp.                      NaN   \n",
       "20064                      Dono6971            United States   \n",
       "20065                   Remi Shores                      NaN   \n",
       "20066  Scott the Great and Terrible                      NaN   \n",
       "20067             Get Outside Media            Telluride, CO   \n",
       "\n",
       "                                        user_description         user_created  \\\n",
       "0      Premier Facebook Marketing Expert | Social Med...  2007-09-11 22:22:51   \n",
       "1      Premier Facebook Marketing Expert | Social Med...  2007-09-11 22:22:51   \n",
       "2      Indian | Tech Solution Artist & Hospitality Ex...  2009-09-06 10:36:01   \n",
       "3      Head of Diversity & Inclusion @RugbyAU | It's ...  2012-12-28 21:45:06   \n",
       "4                              Instagram Charlottejyates  2012-05-28 20:43:08   \n",
       "...                                                  ...                  ...   \n",
       "20063  “Through love, all is possible.” - SJM - See m...  2013-02-19 00:55:12   \n",
       "20064  Father, Husband, and a Dude|| Love Notre Dame ...  2010-01-06 04:08:41   \n",
       "20065  Genderfluid / They/Them/Theirs / Queer Christi...  2012-05-16 23:49:13   \n",
       "20066  I can't recall the taste of food, nor the soun...  2020-03-16 18:20:31   \n",
       "20067  CREATIVE AGENCY | BRAND + CONTENT + DESIGN + P...  2018-07-14 04:44:23   \n",
       "\n",
       "       user_followers  user_friends  user_favourites  user_verified  \\\n",
       "0              579942        288625            11610          False   \n",
       "1              579942        288625            11610          False   \n",
       "2                 257           204              475          False   \n",
       "3               11782          1033            12219           True   \n",
       "4                 278           387             5850          False   \n",
       "...               ...           ...              ...            ...   \n",
       "20063             431           193            32958          False   \n",
       "20064             172            96            50159          False   \n",
       "20065             387           652             7885          False   \n",
       "20066             103            84             2976          False   \n",
       "20067             133           898             1131          False   \n",
       "\n",
       "                      date                                               text  \\\n",
       "0      2020-09-16 20:55:33  @musicmadmarc @SocialDilemma_ @netflix @Facebo...   \n",
       "1      2020-09-16 20:53:17  @musicmadmarc @SocialDilemma_ @netflix @Facebo...   \n",
       "2      2020-09-16 20:51:57  Go watch “The Social Dilemma” on Netflix!\\n\\nI...   \n",
       "3      2020-09-16 20:51:46  I watched #TheSocialDilemma last night. I’m sc...   \n",
       "4      2020-09-16 20:51:11  The problem of me being on my phone most the t...   \n",
       "...                    ...                                                ...   \n",
       "20063  2020-10-09 00:25:53  #TheSocialDilemma yalll.... this shit... we kn...   \n",
       "20064  2020-10-09 00:24:45  Peeps:\\n\\nFind 90 minutes this weekend and wat...   \n",
       "20065  2020-10-09 00:11:42  So you watched #thesocialdilemma, or have been...   \n",
       "20066  2020-10-09 00:10:16  Good social media advice:\\n\\nChoose the thing ...   \n",
       "20067  2020-10-09 00:00:31  Boulder director Jeff Orlowski hopes viewers o...   \n",
       "\n",
       "                   hashtags              source  is_retweet Sentiment  \\\n",
       "0                       NaN     Twitter Web App       False   Neutral   \n",
       "1                       NaN     Twitter Web App       False   Neutral   \n",
       "2                       NaN  Twitter for iPhone       False  Positive   \n",
       "3      ['TheSocialDilemma']  Twitter for iPhone       False  Negative   \n",
       "4      ['TheSocialDilemma']  Twitter for iPhone       False  Positive   \n",
       "...                     ...                 ...         ...       ...   \n",
       "20063  ['TheSocialDilemma']  Twitter for iPhone       False  Negative   \n",
       "20064                   NaN  Twitter for iPhone       False  Positive   \n",
       "20065  ['thesocialdilemma']     Twitter Web App       False  Negative   \n",
       "20066  ['TheSocialDilemma']     Twitter Web App       False  Positive   \n",
       "20067  ['TheSocialDilemma']      Hootsuite Inc.       False   Neutral   \n",
       "\n",
       "       Negative  Neutral  Positive  \n",
       "0             0        1         0  \n",
       "1             0        1         0  \n",
       "2             0        0         1  \n",
       "3             1        0         0  \n",
       "4             0        0         1  \n",
       "...         ...      ...       ...  \n",
       "20063         1        0         0  \n",
       "20064         0        0         1  \n",
       "20065         1        0         0  \n",
       "20066         0        0         1  \n",
       "20067         0        1         0  \n",
       "\n",
       "[20068 rows x 17 columns]"
      ]
     },
     "execution_count": 25,
     "metadata": {},
     "output_type": "execute_result"
    }
   ],
   "source": [
    "df_sentiment = pd.get_dummies(df['Sentiment'])\n",
    "df_sentiment = pd.concat([df, df_sentiment], axis=1)\n",
    "df_sentiment"
   ]
  },
  {
   "cell_type": "code",
   "execution_count": 26,
   "metadata": {},
   "outputs": [
    {
     "data": {
      "text/html": [
       "<div>\n",
       "<style scoped>\n",
       "    .dataframe tbody tr th:only-of-type {\n",
       "        vertical-align: middle;\n",
       "    }\n",
       "\n",
       "    .dataframe tbody tr th {\n",
       "        vertical-align: top;\n",
       "    }\n",
       "\n",
       "    .dataframe thead th {\n",
       "        text-align: right;\n",
       "    }\n",
       "</style>\n",
       "<table border=\"1\" class=\"dataframe\">\n",
       "  <thead>\n",
       "    <tr style=\"text-align: right;\">\n",
       "      <th></th>\n",
       "      <th>Negative</th>\n",
       "      <th>Positive</th>\n",
       "      <th>Neutral</th>\n",
       "    </tr>\n",
       "    <tr>\n",
       "      <th>user_verified</th>\n",
       "      <th></th>\n",
       "      <th></th>\n",
       "      <th></th>\n",
       "    </tr>\n",
       "  </thead>\n",
       "  <tbody>\n",
       "    <tr>\n",
       "      <th>False</th>\n",
       "      <td>3443.0</td>\n",
       "      <td>9189.0</td>\n",
       "      <td>6725.0</td>\n",
       "    </tr>\n",
       "    <tr>\n",
       "      <th>True</th>\n",
       "      <td>130.0</td>\n",
       "      <td>324.0</td>\n",
       "      <td>257.0</td>\n",
       "    </tr>\n",
       "  </tbody>\n",
       "</table>\n",
       "</div>"
      ],
      "text/plain": [
       "               Negative  Positive  Neutral\n",
       "user_verified                             \n",
       "False            3443.0    9189.0   6725.0\n",
       "True              130.0     324.0    257.0"
      ]
     },
     "execution_count": 26,
     "metadata": {},
     "output_type": "execute_result"
    }
   ],
   "source": [
    "temp_df = df_sentiment.groupby(['user_verified']).agg({'Negative': np.sum, 'Positive': np.sum, 'Neutral': np.sum})\n",
    "temp_df"
   ]
  },
  {
   "cell_type": "code",
   "execution_count": 27,
   "metadata": {},
   "outputs": [
    {
     "data": {
      "image/png": "[encoded data removed]",
      "text/plain": [
       "<Figure size 432x288 with 1 Axes>"
      ]
     },
     "metadata": {
      "needs_background": "light"
     },
     "output_type": "display_data"
    }
   ],
   "source": [
    "width = 0.35\n",
    "fig, ax = plt.subplots()\n",
    "ax.bar(list(temp_df.columns), temp_df.iloc[0].values, width, label='Non-verified users')\n",
    "ax.bar(list(temp_df.columns), temp_df.iloc[1].values, width, bottom=temp_df.iloc[0].values, label='Verified users')\n",
    "\n",
    "ax.set_ylabel('No. of tweets')\n",
    "ax.set_xlabel('Sentiment')\n",
    "ax.set_title('Sentiment of tweets')\n",
    "ax.legend()\n",
    "\n",
    "plt.show()"
   ]
  },
  {
   "cell_type": "code",
   "execution_count": 28,
   "metadata": {},
   "outputs": [
    {
     "name": "stderr",
     "output_type": "stream",
     "text": [
      "No handles with labels found to put in legend.\n"
     ]
    },
    {
     "data": {
      "image/png": "[encoded data removed]",
      "text/plain": [
       "<Figure size 864x360 with 1 Axes>"
      ]
     },
     "metadata": {
      "needs_background": "light"
     },
     "output_type": "display_data"
    }
   ],
   "source": [
    "tempdf = df.drop_duplicates(subset='user_name')\n",
    "temp = pd.to_datetime(tempdf['user_created']).dt.year.value_counts().sort_index()\n",
    "fig, ax = plt.subplots(figsize=(12,5))\n",
    "plt.xticks(temp.index.array)\n",
    "ax.bar(temp.index.array, temp.values)\n",
    "\n",
    "ax.set_ylabel('No. of users')\n",
    "ax.set_xlabel('Year')\n",
    "ax.set_title('Joining year of the users')\n",
    "ax.legend()\n",
    "\n",
    "plt.show()"
   ]
  },
  {
   "cell_type": "code",
   "execution_count": 29,
   "metadata": {},
   "outputs": [
    {
     "data": {
      "text/plain": [
       "Text(0, 0.5, 'Date of tweets')"
      ]
     },
     "execution_count": 29,
     "metadata": {},
     "output_type": "execute_result"
    },
    {
     "data": {
      "image/png": "[encoded data removed]",
      "text/plain": [
       "<Figure size 432x576 with 1 Axes>"
      ]
     },
     "metadata": {
      "needs_background": "light"
     },
     "output_type": "display_data"
    }
   ],
   "source": [
    "temp = pd.to_datetime(tempdf['date']).dt.date\n",
    "temp = temp.value_counts(sort=False).sort_index(ascending=False)\n",
    "temp = temp.plot.barh(title='Date of tweets', figsize=(6,8))\n",
    "temp.set_xlabel('No. of tweets')\n",
    "temp.set_ylabel('Date of tweets')"
   ]
  },
  {
   "cell_type": "code",
   "execution_count": 30,
   "metadata": {},
   "outputs": [
    {
     "data": {
      "text/plain": [
       "Text(0, 0.5, 'Hour of tweets')"
      ]
     },
     "execution_count": 30,
     "metadata": {},
     "output_type": "execute_result"
    },
    {
     "data": {
      "image/png": "[encoded data removed]",
      "text/plain": [
       "<Figure size 432x576 with 1 Axes>"
      ]
     },
     "metadata": {
      "needs_background": "light"
     },
     "output_type": "display_data"
    }
   ],
   "source": [
    "temp = pd.to_datetime(tempdf['date']).dt.hour\n",
    "temp = temp.value_counts()\n",
    "temp = temp.plot.barh(title='Hour of tweets', figsize=(6,8))\n",
    "temp.set_xlabel('No. of tweets')\n",
    "temp.set_ylabel('Hour of tweets')"
   ]
  },
  {
   "cell_type": "code",
   "execution_count": 31,
   "metadata": {},
   "outputs": [
    {
     "data": {
      "text/plain": [
       "Text(0, 0.5, 'No. of tags')"
      ]
     },
     "execution_count": 31,
     "metadata": {},
     "output_type": "execute_result"
    },
    {
     "data": {
      "image/png": "[encoded data removed]",
      "text/plain": [
       "<Figure size 576x360 with 1 Axes>"
      ]
     },
     "metadata": {
      "needs_background": "light"
     },
     "output_type": "display_data"
    }
   ],
   "source": [
    "temp = df['hashtags'].fillna('[]')\n",
    "tags_df = temp.apply(lambda x: 0 if x == '[]' else len(x.split(','))).value_counts().sort_index(ascending=False)\n",
    "tags_plot = tags_df.plot.barh(title='No. of tags', figsize=(8,5))\n",
    "tags_plot.set_xlabel('No. of tweets')\n",
    "tags_plot.set_ylabel('No. of tags')"
   ]
  },
  {
   "cell_type": "code",
   "execution_count": 32,
   "metadata": {},
   "outputs": [
    {
     "data": {
      "text/plain": [
       "thesocialdilemma       15234\n",
       "netflix                 1037\n",
       "socialmedia              259\n",
       "facebook                  93\n",
       "documentary               72\n",
       "                       ...  \n",
       "onlinesafety               1\n",
       "elastos                    1\n",
       "bingewatchwithbatsy        1\n",
       "datapluswomen              1\n",
       "sjw                        1\n",
       "Name: hashtags, Length: 1716, dtype: int64"
      ]
     },
     "execution_count": 32,
     "metadata": {},
     "output_type": "execute_result"
    }
   ],
   "source": [
    "#tags_df = temp.apply(lambda x: 0 if x == '[]'' else x.split(',')).value_counts().sort_index(ascending=False)\n",
    "tags_df = temp.apply(lambda x: [] \n",
    "                     if x == '[]' \n",
    "                     else x.replace('[', '')\n",
    "                     .replace(']', '')\n",
    "                     .lower()\n",
    "                     .replace(' ', '')\n",
    "                     .replace(\"'\", '')\n",
    "                     .split(','))\n",
    "tags_counts = tags_df.explode().dropna().value_counts()\n",
    "# .plot.barh(title='Tags appearance', figsize=(8,5))\n",
    "# tags_counts.set_xlabel('No. of tweets')\n",
    "# tags_counts.set_ylabel('No. of tags')\n",
    "tags_counts"
   ]
  },
  {
   "cell_type": "code",
   "execution_count": 33,
   "metadata": {},
   "outputs": [
    {
     "data": {
      "text/plain": [
       "Text(0, 0.5, 'no. of appearance')"
      ]
     },
     "execution_count": 33,
     "metadata": {},
     "output_type": "execute_result"
    },
    {
     "data": {
      "image/png": "[encoded data removed]",
      "text/plain": [
       "<Figure size 432x288 with 1 Axes>"
      ]
     },
     "metadata": {
      "needs_background": "light"
     },
     "output_type": "display_data"
    }
   ],
   "source": [
    "top_tag_plot = tags_counts.head(5).plot.bar(title='Top 5 tags')\n",
    "top_tag_plot.set_xlabel('tag')\n",
    "top_tag_plot.set_ylabel('no. of appearance')"
   ]
  },
  {
   "cell_type": "code",
   "execution_count": 34,
   "metadata": {},
   "outputs": [
    {
     "data": {
      "text/html": [
       "<div>\n",
       "<style scoped>\n",
       "    .dataframe tbody tr th:only-of-type {\n",
       "        vertical-align: middle;\n",
       "    }\n",
       "\n",
       "    .dataframe tbody tr th {\n",
       "        vertical-align: top;\n",
       "    }\n",
       "\n",
       "    .dataframe thead th {\n",
       "        text-align: right;\n",
       "    }\n",
       "</style>\n",
       "<table border=\"1\" class=\"dataframe\">\n",
       "  <thead>\n",
       "    <tr style=\"text-align: right;\">\n",
       "      <th></th>\n",
       "      <th>Sentiment</th>\n",
       "      <th>text</th>\n",
       "    </tr>\n",
       "  </thead>\n",
       "  <tbody>\n",
       "    <tr>\n",
       "      <th>0</th>\n",
       "      <td>Neutral</td>\n",
       "      <td>@musicmadmarc @SocialDilemma_ @netflix @Facebo...</td>\n",
       "    </tr>\n",
       "    <tr>\n",
       "      <th>1</th>\n",
       "      <td>Neutral</td>\n",
       "      <td>@musicmadmarc @SocialDilemma_ @netflix @Facebo...</td>\n",
       "    </tr>\n",
       "    <tr>\n",
       "      <th>2</th>\n",
       "      <td>Positive</td>\n",
       "      <td>Go watch “The Social Dilemma” on Netflix!\\n\\nI...</td>\n",
       "    </tr>\n",
       "    <tr>\n",
       "      <th>3</th>\n",
       "      <td>Negative</td>\n",
       "      <td>I watched #TheSocialDilemma last night. I’m sc...</td>\n",
       "    </tr>\n",
       "    <tr>\n",
       "      <th>4</th>\n",
       "      <td>Positive</td>\n",
       "      <td>The problem of me being on my phone most the t...</td>\n",
       "    </tr>\n",
       "  </tbody>\n",
       "</table>\n",
       "</div>"
      ],
      "text/plain": [
       "  Sentiment                                               text\n",
       "0   Neutral  @musicmadmarc @SocialDilemma_ @netflix @Facebo...\n",
       "1   Neutral  @musicmadmarc @SocialDilemma_ @netflix @Facebo...\n",
       "2  Positive  Go watch “The Social Dilemma” on Netflix!\\n\\nI...\n",
       "3  Negative  I watched #TheSocialDilemma last night. I’m sc...\n",
       "4  Positive  The problem of me being on my phone most the t..."
      ]
     },
     "execution_count": 34,
     "metadata": {},
     "output_type": "execute_result"
    }
   ],
   "source": [
    "data = df[['Sentiment', 'text']]\n",
    "data.head()"
   ]
  },
  {
   "cell_type": "code",
   "execution_count": 35,
   "metadata": {},
   "outputs": [
    {
     "name": "stderr",
     "output_type": "stream",
     "text": [
      "[nltk_data] Downloading package stopwords to\n",
      "[nltk_data]     C:\\Users\\Klaus\\AppData\\Roaming\\nltk_data...\n",
      "[nltk_data]   Package stopwords is already up-to-date!\n",
      "[nltk_data] Downloading package punkt to\n",
      "[nltk_data]     C:\\Users\\Klaus\\AppData\\Roaming\\nltk_data...\n",
      "[nltk_data]   Package punkt is already up-to-date!\n"
     ]
    }
   ],
   "source": [
    "import string\n",
    "import re\n",
    "import nltk\n",
    "nltk.download('stopwords')\n",
    "nltk.download('punkt')\n",
    "# nltk.download('wordnet')\n",
    "from nltk.tokenize import word_tokenize\n",
    "from nltk.corpus import stopwords\n",
    "from nltk.stem import PorterStemmer"
   ]
  },
  {
   "cell_type": "code",
   "execution_count": 36,
   "metadata": {},
   "outputs": [
    {
     "data": {
      "text/plain": [
       "0    [@, musicmadmarc, @, SocialDilemma_, @, netfli...\n",
       "1    [@, musicmadmarc, @, SocialDilemma_, @, netfli...\n",
       "2    [Go, watch, “, The, Social, Dilemma, ”, on, Ne...\n",
       "3    [I, watched, #, TheSocialDilemma, last, night,...\n",
       "4    [The, problem, of, me, being, on, my, phone, m...\n",
       "Name: text, dtype: object"
      ]
     },
     "execution_count": 36,
     "metadata": {},
     "output_type": "execute_result"
    }
   ],
   "source": [
    "tokenized_text = data['text'].map(word_tokenize)\n",
    "tokenized_text.head()"
   ]
  },
  {
   "cell_type": "code",
   "execution_count": 37,
   "metadata": {},
   "outputs": [],
   "source": [
    "all_words = sum(tokenized_text, [])"
   ]
  },
  {
   "cell_type": "code",
   "execution_count": 38,
   "metadata": {},
   "outputs": [
    {
     "data": {
      "text/plain": [
       "[('#', 19907),\n",
       " ('TheSocialDilemma', 14444),\n",
       " (':', 14315),\n",
       " ('https', 13185),\n",
       " ('.', 11878),\n",
       " ('the', 8996),\n",
       " (',', 7310),\n",
       " ('@', 6842),\n",
       " ('I', 6507),\n",
       " ('to', 6400),\n",
       " ('on', 5841),\n",
       " ('and', 5426),\n",
       " ('is', 5139),\n",
       " ('you', 5008),\n",
       " ('a', 4675),\n",
       " ('’', 4359),\n",
       " ('of', 4327),\n",
       " ('it', 3668),\n",
       " ('watch', 3571),\n",
       " ('Netflix', 3213),\n",
       " ('!', 3119),\n",
       " ('social', 2975),\n",
       " ('are', 2598),\n",
       " ('that', 2557),\n",
       " ('media', 2536),\n",
       " ('in', 2533),\n",
       " ('for', 2477),\n",
       " ('this', 2334),\n",
       " ('The', 2328),\n",
       " ('?', 1987),\n",
       " ('watching', 1793),\n",
       " ('about', 1772),\n",
       " ('Social', 1698),\n",
       " ('netflix', 1684),\n",
       " ('my', 1627),\n",
       " ('watched', 1602),\n",
       " ('we', 1533),\n",
       " ('documentary', 1491),\n",
       " ('not', 1487),\n",
       " (\"'s\", 1443),\n",
       " ('s', 1401),\n",
       " ('It', 1347),\n",
       " ('If', 1314),\n",
       " ('have', 1289),\n",
       " ('all', 1286),\n",
       " ('how', 1223),\n",
       " ('Dilemma', 1197),\n",
       " ('``', 1190),\n",
       " ('...', 1188),\n",
       " ('but', 1169)]"
      ]
     },
     "execution_count": 38,
     "metadata": {},
     "output_type": "execute_result"
    }
   ],
   "source": [
    "from nltk.probability import FreqDist\n",
    "fdist = FreqDist(all_words)\n",
    "fdist.most_common(50)"
   ]
  },
  {
   "cell_type": "code",
   "execution_count": 39,
   "metadata": {},
   "outputs": [],
   "source": [
    "stop_words = set(stopwords.words('english'))\n",
    "stop_words.update(['netflix', 'thesocialdilemma', 'watch', 'documentary', 'social'\n",
    "                   , 'dilemma', 'socialdilemma', 'media', '”', '“', '’', '`'])"
   ]
  },
  {
   "cell_type": "code",
   "execution_count": 40,
   "metadata": {},
   "outputs": [
    {
     "name": "stderr",
     "output_type": "stream",
     "text": [
      "<ipython-input-40-21efc0f5acc6>:14: SettingWithCopyWarning: \n",
      "A value is trying to be set on a copy of a slice from a DataFrame.\n",
      "Try using .loc[row_indexer,col_indexer] = value instead\n",
      "\n",
      "See the caveats in the documentation: https://pandas.pydata.org/pandas-docs/stable/user_guide/indexing.html#returning-a-view-versus-a-copy\n",
      "  data['preprocessed_text'] = data['text'].apply(preprocess_text)\n"
     ]
    },
    {
     "data": {
      "text/html": [
       "<div>\n",
       "<style scoped>\n",
       "    .dataframe tbody tr th:only-of-type {\n",
       "        vertical-align: middle;\n",
       "    }\n",
       "\n",
       "    .dataframe tbody tr th {\n",
       "        vertical-align: top;\n",
       "    }\n",
       "\n",
       "    .dataframe thead th {\n",
       "        text-align: right;\n",
       "    }\n",
       "</style>\n",
       "<table border=\"1\" class=\"dataframe\">\n",
       "  <thead>\n",
       "    <tr style=\"text-align: right;\">\n",
       "      <th></th>\n",
       "      <th>Sentiment</th>\n",
       "      <th>text</th>\n",
       "      <th>preprocessed_text</th>\n",
       "    </tr>\n",
       "  </thead>\n",
       "  <tbody>\n",
       "    <tr>\n",
       "      <th>0</th>\n",
       "      <td>Neutral</td>\n",
       "      <td>@musicmadmarc @SocialDilemma_ @netflix @Facebo...</td>\n",
       "      <td>im also remind veri poignant quot french philo...</td>\n",
       "    </tr>\n",
       "    <tr>\n",
       "      <th>1</th>\n",
       "      <td>Neutral</td>\n",
       "      <td>@musicmadmarc @SocialDilemma_ @netflix @Facebo...</td>\n",
       "      <td>haa hey marc get say amp dont agre 🤪 whicheve…</td>\n",
       "    </tr>\n",
       "    <tr>\n",
       "      <th>2</th>\n",
       "      <td>Positive</td>\n",
       "      <td>Go watch “The Social Dilemma” on Netflix!\\n\\nI...</td>\n",
       "      <td>go best 100 minut spend 2020 bet you💯…</td>\n",
       "    </tr>\n",
       "    <tr>\n",
       "      <th>3</th>\n",
       "      <td>Negative</td>\n",
       "      <td>I watched #TheSocialDilemma last night. I’m sc...</td>\n",
       "      <td>last night scare human sure log f…</td>\n",
       "    </tr>\n",
       "    <tr>\n",
       "      <th>4</th>\n",
       "      <td>Positive</td>\n",
       "      <td>The problem of me being on my phone most the t...</td>\n",
       "      <td>problem phone time tri 🤦🏼‍♀️</td>\n",
       "    </tr>\n",
       "    <tr>\n",
       "      <th>5</th>\n",
       "      <td>Positive</td>\n",
       "      <td>#TheSocialDilemma 😳 wow!! We need regulations ...</td>\n",
       "      <td>😳 wow need regul platform quick</td>\n",
       "    </tr>\n",
       "    <tr>\n",
       "      <th>6</th>\n",
       "      <td>Neutral</td>\n",
       "      <td>@harari_yuval what do you think about #TheSoci...</td>\n",
       "      <td>think</td>\n",
       "    </tr>\n",
       "    <tr>\n",
       "      <th>7</th>\n",
       "      <td>Negative</td>\n",
       "      <td>Erm #TheSocialDilemma makes me want to go off ...</td>\n",
       "      <td>erm make want go grid live cave tinfoil hat me...</td>\n",
       "    </tr>\n",
       "    <tr>\n",
       "      <th>8</th>\n",
       "      <td>Positive</td>\n",
       "      <td>#TheSocialDilemma is not a documentary, it's h...</td>\n",
       "      <td>documentari horror live</td>\n",
       "    </tr>\n",
       "    <tr>\n",
       "      <th>9</th>\n",
       "      <td>Positive</td>\n",
       "      <td>Okay i’m watching #TheSocialDilemma now.</td>\n",
       "      <td>okay</td>\n",
       "    </tr>\n",
       "  </tbody>\n",
       "</table>\n",
       "</div>"
      ],
      "text/plain": [
       "  Sentiment                                               text  \\\n",
       "0   Neutral  @musicmadmarc @SocialDilemma_ @netflix @Facebo...   \n",
       "1   Neutral  @musicmadmarc @SocialDilemma_ @netflix @Facebo...   \n",
       "2  Positive  Go watch “The Social Dilemma” on Netflix!\\n\\nI...   \n",
       "3  Negative  I watched #TheSocialDilemma last night. I’m sc...   \n",
       "4  Positive  The problem of me being on my phone most the t...   \n",
       "5  Positive  #TheSocialDilemma 😳 wow!! We need regulations ...   \n",
       "6   Neutral  @harari_yuval what do you think about #TheSoci...   \n",
       "7  Negative  Erm #TheSocialDilemma makes me want to go off ...   \n",
       "8  Positive  #TheSocialDilemma is not a documentary, it's h...   \n",
       "9  Positive           Okay i’m watching #TheSocialDilemma now.   \n",
       "\n",
       "                                   preprocessed_text  \n",
       "0  im also remind veri poignant quot french philo...  \n",
       "1     haa hey marc get say amp dont agre 🤪 whicheve…  \n",
       "2             go best 100 minut spend 2020 bet you💯…  \n",
       "3                 last night scare human sure log f…  \n",
       "4                       problem phone time tri 🤦🏼‍♀️  \n",
       "5                    😳 wow need regul platform quick  \n",
       "6                                              think  \n",
       "7  erm make want go grid live cave tinfoil hat me...  \n",
       "8                            documentari horror live  \n",
       "9                                               okay  "
      ]
     },
     "execution_count": 40,
     "metadata": {},
     "output_type": "execute_result"
    }
   ],
   "source": [
    "ps = PorterStemmer()\n",
    "\n",
    "def preprocess_text(text):\n",
    "    text = text.lower()\n",
    "    text = re.sub('(https?://\\S+)|(http?://\\S+)|(www\\.\\S+)|(@\\S+)|(#\\S+)', '', text)\n",
    "    text = text.translate(str.maketrans('', '', string.punctuation))\n",
    "    tokens = word_tokenize(text)\n",
    "    tokens = [ps.stem(w) for w in tokens]\n",
    "    text_arr = [w for w in tokens if not w in stop_words]\n",
    "    text = \" \".join(text_arr)\n",
    "\n",
    "    return text\n",
    "\n",
    "data['preprocessed_text'] = data['text'].apply(preprocess_text)\n",
    "data.head(10)"
   ]
  },
  {
   "cell_type": "code",
   "execution_count": 41,
   "metadata": {},
   "outputs": [],
   "source": [
    "y = data['Sentiment'].map({'Negative':0, 'Neutral':1, 'Positive':2})\n",
    "X = data['preprocessed_text']"
   ]
  },
  {
   "cell_type": "code",
   "execution_count": 42,
   "metadata": {},
   "outputs": [],
   "source": [
    "from sklearn.model_selection import train_test_split\n",
    "from torchtext.legacy.data import Field, TabularDataset, BucketIterator\n",
    "\n",
    "X_train, X_test, y_train, y_test = train_test_split(X, y, test_size=0.2, random_state=4211)\n",
    "X_train, X_val, y_train, y_val = train_test_split(X_train, y_train, test_size=0.2, random_state=4211)\n",
    "\n",
    "train = pd.concat([y_train, X_train], axis=1)\n",
    "val = pd.concat([y_val, X_val], axis=1)\n",
    "test = pd.concat([y_test, X_test], axis=1)\n",
    "train.to_csv(\"_train_.csv\", index=False)\n",
    "val.to_csv(\"_val_.csv\", index=False)\n",
    "test.to_csv(\"_test_.csv\", index=False)"
   ]
  },
  {
   "cell_type": "code",
   "execution_count": 43,
   "metadata": {},
   "outputs": [
    {
     "name": "stdout",
     "output_type": "stream",
     "text": [
      "12843\n",
      "3211\n",
      "4014\n"
     ]
    }
   ],
   "source": [
    "print(len(X_train))\n",
    "print(len(X_val))\n",
    "print(len(X_test))"
   ]
  },
  {
   "cell_type": "code",
   "execution_count": 44,
   "metadata": {},
   "outputs": [],
   "source": [
    "txt_field = Field(tokenize=word_tokenize, lower=True, batch_first=True, include_lengths=True)\n",
    "label_field = Field(sequential=False, use_vocab=False, batch_first=True)\n",
    "fields = [('Sentiment', label_field), ('preprocessed_text', txt_field)]\n",
    "\n",
    "PATH=\"./\"\n",
    "train, val, test = TabularDataset.splits(path=PATH, train='_train_.csv', validation='_val_.csv', test='_test_.csv', format='csv', \n",
    "                                  fields=fields, skip_header=True)\n",
    "\n",
    "txt_field.build_vocab(train, min_freq=2)\n",
    "\n",
    "train_iter, val_iter, test_iter = BucketIterator.splits((train, val, test), batch_size=32, sort_key=lambda x: len(x.preprocessed_text),sort_within_batch=True)"
   ]
  },
  {
   "cell_type": "code",
   "execution_count": 45,
   "metadata": {
    "collapsed": true,
    "jupyter": {
     "outputs_hidden": true
    }
   },
   "outputs": [
    {
     "name": "stdout",
     "output_type": "stream",
     "text": [
      "Number of training samples: 12843\n",
      "Number of validation samples: 3211\n",
      "Number of testing samples: 4014\n",
      "Example of training data:\n",
      " {'Sentiment': '2', 'preprocessed_text': ['think', 'gunna', 'delet']}\n",
      "\n",
      "Example of validation data:\n",
      " {'Sentiment': '2', 'preprocessed_text': ['silicon', 'valley', 'guy', 'portray', 'nobl', 'whistl', 'blower', 'design', 'matrix', 'alg…']}\n",
      "\n",
      "Example of testing data:\n",
      " {'Sentiment': '0', 'preprocessed_text': ['tech', 'confus', 'doom', 'gloom', 'confus', 'simultan', 'utopia', 'dystopia', 'p…']}\n",
      "\n",
      "Sentiment tensor torch.Size([32])\n",
      "tensor([2, 1, 1, 1, 1, 1, 1, 1, 1, 1, 1, 1, 1, 2, 2, 2, 2, 1, 1, 1, 1, 0, 1, 1,\n",
      "        1, 2, 2, 2, 0, 1, 2, 1])\n",
      "\n",
      "sentence length tensor torch.Size([32])\n",
      "tensor([3, 3, 3, 3, 3, 3, 3, 3, 3, 3, 3, 3, 3, 3, 3, 3, 3, 3, 3, 3, 3, 3, 3, 3,\n",
      "        3, 3, 3, 3, 3, 3, 3, 3])\n",
      "\n",
      "sentence tensor torch.Size([32, 3])\n",
      "tensor([[  65,   86,    5],\n",
      "        [  23,    4,    4],\n",
      "        [   2,  985,   88],\n",
      "        [ 199,  199, 1684],\n",
      "        [   0,    9,  224],\n",
      "        [ 746, 2386,  202],\n",
      "        [  23,    4,    4],\n",
      "        [ 661,  158, 1504],\n",
      "        [1368, 1980,   31],\n",
      "        [  23,    4,    4],\n",
      "        [  99,   77,   83],\n",
      "        [ 238,    7,    2],\n",
      "        [  65,    9,  297],\n",
      "        [ 266,    2,  224],\n",
      "        [   0,  938,    0],\n",
      "        [   3,  168,  141],\n",
      "        [ 182,  103,  106],\n",
      "        [  74,  446, 2662],\n",
      "        [  23,    4,    4],\n",
      "        [   2,   36,  198],\n",
      "        [  23,    4,    4],\n",
      "        [   5,  154,   62],\n",
      "        [ 259,  267,    0],\n",
      "        [   0,  102,  369],\n",
      "        [  65,  264,   30],\n",
      "        [   2,  423,   54],\n",
      "        [ 268,   72,  124],\n",
      "        [  98,   73,  767],\n",
      "        [ 472,  178,  182],\n",
      "        [1414, 1414, 1414],\n",
      "        [  85,   14,   52],\n",
      "        [ 100,   22, 3883]])\n"
     ]
    }
   ],
   "source": [
    "print(f'Number of training samples: {len(train.examples)}')\n",
    "print(f'Number of validation samples: {len(val.examples)}')\n",
    "print(f'Number of testing samples: {len(test.examples)}')\n",
    "\n",
    "print(f'Example of training data:\\n {vars(train.examples[0])}\\n')\n",
    "print(f'Example of validation data:\\n {vars(val.examples[0])}\\n')\n",
    "print(f'Example of testing data:\\n {vars(test.examples[0])}\\n')\n",
    "\n",
    "batch = next(iter(train_iter))\n",
    "print('Sentiment tensor', batch.Sentiment.shape)\n",
    "print(batch.Sentiment)\n",
    "print()\n",
    "sent, sent_len = batch.preprocessed_text\n",
    "print('sentence length tensor', sent_len.shape)\n",
    "print(sent_len)\n",
    "print()\n",
    "print('sentence tensor', sent.shape)\n",
    "print(sent)"
   ]
  },
  {
   "cell_type": "code",
   "execution_count": 46,
   "metadata": {},
   "outputs": [
    {
     "name": "stdout",
     "output_type": "stream",
     "text": [
      "5444\n",
      "1981\n",
      "2441\n"
     ]
    }
   ],
   "source": [
    "def OOV_count(dataset):\n",
    "    num = 0\n",
    "    for i in range(len(dataset)):\n",
    "        text_arr = vars(dataset[i])['preprocessed_text']\n",
    "        for j in range(0, len(text_arr)):\n",
    "            if (txt_field.vocab[text_arr[j]] == 0):\n",
    "                num = num + 1\n",
    "    return num\n",
    "\n",
    "num_of_oov_train = OOV_count(train)\n",
    "num_of_oov_val= OOV_count(val)\n",
    "num_of_oov_test= OOV_count(test)\n",
    "\n",
    "print(num_of_oov_train)\n",
    "print(num_of_oov_val)\n",
    "print(num_of_oov_test)"
   ]
  },
  {
   "cell_type": "code",
   "execution_count": 47,
   "metadata": {},
   "outputs": [],
   "source": [
    "import torch.nn as nn\n",
    "\n",
    "class Net(nn.Module):\n",
    "    def __init__(self, model_idx, n_vocab, embedding_dim, n_hidden, \n",
    "                 n_layers, dropout, embedding=None, freeze=True, init_weight=-1):\n",
    "        super(Net, self).__init__()\n",
    "        net_dict = {\n",
    "            0: nn.RNN,\n",
    "            1: nn.GRU,\n",
    "            2: nn.LSTM,\n",
    "            3: nn.LSTM\n",
    "        }\n",
    "        self.emb = nn.Embedding(n_vocab, embedding_dim) if embedding == None else nn.Embedding.from_pretrained(embedding, freeze=freeze)\n",
    "        self.net = net_dict[model_idx](\n",
    "            input_size=embedding_dim,\n",
    "            hidden_size=n_hidden,\n",
    "            num_layers=n_layers,\n",
    "            batch_first=True,\n",
    "            bidirectional = True if model_idx == 3 else False\n",
    "        )\n",
    "        self.fn = nn.Sequential(\n",
    "            nn.Dropout(p=dropout),\n",
    "            nn.Linear((2 if model_idx == 3 else 1) * n_hidden, 3)\n",
    "        )\n",
    "        self.model_idx = model_idx\n",
    "        \n",
    "        if init_weight > -1:\n",
    "            init_dict = {\n",
    "                0: nn.init.kaiming_normal_,\n",
    "                1: nn.init.xavier_normal_\n",
    "            }\n",
    "            init_dict[init_weight](self.net.weight_hh_l0)\n",
    "            init_dict[init_weight](self.net.weight_ih_l0)\n",
    "            init_dict[init_weight](self.fn[1].weight)\n",
    "        \n",
    "    def forward(self, sent, sent_len):  \n",
    "        sent_emb = self.emb(sent)\n",
    "        outputs, hidden = self.net(sent_emb)\n",
    "        if self.model_idx == 2:\n",
    "            hidden = hidden[0]\n",
    "        elif self.model_idx == 3:\n",
    "            hidden = torch.cat([hidden[0][0, :, :], hidden[0][1, :, :]], dim=1)\n",
    "        outputs = self.fn(hidden)\n",
    "        return outputs.view(-1,3)"
   ]
  },
  {
   "cell_type": "code",
   "execution_count": 48,
   "metadata": {},
   "outputs": [
    {
     "name": "stdout",
     "output_type": "stream",
     "text": [
      "Requirement already satisfied: torchsummaryX in c:\\users\\klaus\\anaconda3\\lib\\site-packages (1.3.0)\n",
      "Requirement already satisfied: numpy in c:\\users\\klaus\\anaconda3\\lib\\site-packages (from torchsummaryX) (1.19.2)\n",
      "Requirement already satisfied: torch in c:\\users\\klaus\\anaconda3\\lib\\site-packages (from torchsummaryX) (1.8.0)\n",
      "Requirement already satisfied: pandas in c:\\users\\klaus\\anaconda3\\lib\\site-packages (from torchsummaryX) (1.1.3)\n",
      "Requirement already satisfied: typing_extensions in c:\\users\\klaus\\anaconda3\\lib\\site-packages (from torch->torchsummaryX) (3.7.4.3)\n",
      "Requirement already satisfied: python-dateutil>=2.7.3 in c:\\users\\klaus\\appdata\\roaming\\python\\python38\\site-packages (from pandas->torchsummaryX) (2.8.1)\n",
      "Requirement already satisfied: pytz>=2017.2 in c:\\users\\klaus\\anaconda3\\lib\\site-packages (from pandas->torchsummaryX) (2020.1)\n",
      "Requirement already satisfied: six>=1.5 in c:\\users\\klaus\\appdata\\roaming\\python\\python38\\site-packages (from python-dateutil>=2.7.3->pandas->torchsummaryX) (1.15.0)\n",
      "=============================================================\n",
      "               Kernel Shape Output Shape  Params Mult-Adds\n",
      "Layer                                                     \n",
      "0_emb            [50, 4166]  [32, 7, 50]  208.3k    208.3k\n",
      "1_net                     -  [32, 7, 64]  7.424k    7.296k\n",
      "2_fn.Dropout_0            -  [1, 32, 64]       -         -\n",
      "3_fn.Linear_1       [64, 3]   [1, 32, 3]   195.0     192.0\n",
      "-------------------------------------------------------------\n",
      "                        Totals\n",
      "Total params          215.919k\n",
      "Trainable params      215.919k\n",
      "Non-trainable params       0.0\n",
      "Mult-Adds             215.788k\n",
      "=============================================================\n"
     ]
    },
    {
     "data": {
      "text/html": [
       "<div>\n",
       "<style scoped>\n",
       "    .dataframe tbody tr th:only-of-type {\n",
       "        vertical-align: middle;\n",
       "    }\n",
       "\n",
       "    .dataframe tbody tr th {\n",
       "        vertical-align: top;\n",
       "    }\n",
       "\n",
       "    .dataframe thead th {\n",
       "        text-align: right;\n",
       "    }\n",
       "</style>\n",
       "<table border=\"1\" class=\"dataframe\">\n",
       "  <thead>\n",
       "    <tr style=\"text-align: right;\">\n",
       "      <th></th>\n",
       "      <th>Kernel Shape</th>\n",
       "      <th>Output Shape</th>\n",
       "      <th>Params</th>\n",
       "      <th>Mult-Adds</th>\n",
       "    </tr>\n",
       "    <tr>\n",
       "      <th>Layer</th>\n",
       "      <th></th>\n",
       "      <th></th>\n",
       "      <th></th>\n",
       "      <th></th>\n",
       "    </tr>\n",
       "  </thead>\n",
       "  <tbody>\n",
       "    <tr>\n",
       "      <th>0_emb</th>\n",
       "      <td>[50, 4166]</td>\n",
       "      <td>[32, 7, 50]</td>\n",
       "      <td>208300.0</td>\n",
       "      <td>208300.0</td>\n",
       "    </tr>\n",
       "    <tr>\n",
       "      <th>1_net</th>\n",
       "      <td>-</td>\n",
       "      <td>[32, 7, 64]</td>\n",
       "      <td>7424.0</td>\n",
       "      <td>7296.0</td>\n",
       "    </tr>\n",
       "    <tr>\n",
       "      <th>2_fn.Dropout_0</th>\n",
       "      <td>-</td>\n",
       "      <td>[1, 32, 64]</td>\n",
       "      <td>NaN</td>\n",
       "      <td>NaN</td>\n",
       "    </tr>\n",
       "    <tr>\n",
       "      <th>3_fn.Linear_1</th>\n",
       "      <td>[64, 3]</td>\n",
       "      <td>[1, 32, 3]</td>\n",
       "      <td>195.0</td>\n",
       "      <td>192.0</td>\n",
       "    </tr>\n",
       "  </tbody>\n",
       "</table>\n",
       "</div>"
      ],
      "text/plain": [
       "               Kernel Shape Output Shape    Params  Mult-Adds\n",
       "Layer                                                        \n",
       "0_emb            [50, 4166]  [32, 7, 50]  208300.0   208300.0\n",
       "1_net                     -  [32, 7, 64]    7424.0     7296.0\n",
       "2_fn.Dropout_0            -  [1, 32, 64]       NaN        NaN\n",
       "3_fn.Linear_1       [64, 3]   [1, 32, 3]     195.0      192.0"
      ]
     },
     "execution_count": 48,
     "metadata": {},
     "output_type": "execute_result"
    }
   ],
   "source": [
    "!pip install torchsummaryX\n",
    "from torchsummaryX import summary\n",
    "\n",
    "model = Net(0, len(txt_field.vocab), 50, 64, 1, 0.5).cuda()\n",
    "summary(model, torch.randint(1, (32, 7)).cuda(), torch.full((32, ), 7))"
   ]
  },
  {
   "cell_type": "code",
   "execution_count": 49,
   "metadata": {},
   "outputs": [],
   "source": [
    "def save_checkpoint(save_path, model, optimizer, best_acc):\n",
    "    if save_path==None:\n",
    "        return\n",
    "    save_path = save_path \n",
    "    state_dict = {'model_state_dict': model.state_dict(),\n",
    "                  'optimizer_state_dict': optimizer.state_dict(),\n",
    "                  'best_acc': best_acc}\n",
    "    torch.save(state_dict, save_path)\n",
    "    print(f'Model saved to {save_path}')\n",
    "\n",
    "def load_checkpoint(save_path, model, optimizer):\n",
    "    save_path = save_path \n",
    "    state_dict = torch.load(save_path)\n",
    "    model.load_state_dict(state_dict['model_state_dict'])\n",
    "    optimizer.load_state_dict(state_dict['optimizer_state_dict'])\n",
    "    best_acc = state_dict['best_acc']\n",
    "    print(f'Model loaded from {save_path}, with best validation acc: {best_acc}')\n",
    "    return best_acc\n",
    "\n",
    "\n",
    "def TRAIN(model, train_loader, valid_loader,  num_epochs, criterion, optimizer, val_acc, device, save_name):\n",
    "    if val_acc==None:\n",
    "        best_acc = float(\"-Inf\")  \n",
    "    else: \n",
    "        best_acc = val_acc\n",
    "        print('Resume training')\n",
    "    \n",
    "    model.to(device)\n",
    "    train_losses = []\n",
    "    val_losses = []\n",
    "    \n",
    "    for epoch in range(num_epochs):  # loop over the dataset multiple times\n",
    "        model.train()\n",
    "        running_loss = 0.0\n",
    "        running_corrects = 0\n",
    "        running_labels = 0\n",
    "        for i, ((labels, (sent, sent_len)), _) in enumerate(train_loader):\n",
    "            if(torch.max(sent_len) == 0):\n",
    "                continue\n",
    "            sent = sent.to(device) \n",
    "            labels = labels.to(device)\n",
    "\n",
    "            outputs = model(sent, sent_len)\n",
    "            loss = criterion(outputs, labels)\n",
    "            \n",
    "            optimizer.zero_grad()\n",
    "            loss.backward()\n",
    "            optimizer.step()\n",
    "\n",
    "            running_loss += loss.item()\n",
    "            _, preds = torch.max(outputs.data, 1)\n",
    "            running_corrects += torch.sum(preds == labels.data)\n",
    "            running_labels += len(labels)\n",
    "\n",
    "        train_loss = running_loss / len(train_loader)\n",
    "        train_acc = running_corrects.double() / running_labels\n",
    "        train_losses.append(train_loss)\n",
    "\n",
    "        with torch.no_grad():\n",
    "            model.eval()\n",
    "            running_loss = 0.0\n",
    "            running_corrects = 0\n",
    "            running_labels = 0\n",
    "            for i, ((labels, (sent, sent_len)), _) in enumerate(valid_loader):\n",
    "                if(torch.max(sent_len) == 0):\n",
    "                    continue\n",
    "                sent = sent.to(device)\n",
    "                labels = labels.to(device)\n",
    "                \n",
    "                outputs = model(sent, sent_len)\n",
    "                loss = criterion(outputs, labels)\n",
    "\n",
    "                running_loss += loss.item()\n",
    "                _, preds = torch.max(outputs.data, 1)\n",
    "                running_corrects += torch.sum(preds == labels.data)\n",
    "                running_labels += len(labels)\n",
    "\n",
    "            val_loss = running_loss / len(valid_loader)\n",
    "            val_acc = running_corrects.double() / running_labels\n",
    "            val_losses.append(val_loss)\n",
    "\n",
    "            print('Epoch [{}/{}], Train Loss: {:.4f}, Valid Loss: {:.4f}, Train Acc: {:.4f}, Val Acc: {:.4f}' \n",
    "                  .format(epoch+1, num_epochs, train_loss, val_loss, train_acc, val_acc))\n",
    "\n",
    "            if val_acc > best_acc:\n",
    "                best_acc = val_acc\n",
    "                save_checkpoint(save_name, model, optimizer, best_acc)\n",
    "    return train_losses, val_losses, best_acc\n"
   ]
  },
  {
   "cell_type": "code",
   "execution_count": 50,
   "metadata": {},
   "outputs": [
    {
     "name": "stdout",
     "output_type": "stream",
     "text": [
      "cuda\n"
     ]
    }
   ],
   "source": [
    "from torch.optim import Adam\n",
    "\n",
    "device = torch.device('cuda' if torch.cuda.is_available() else 'cpu')\n",
    "print(device)\n",
    "\n",
    "n_epochs = 15\n",
    "val_acc = None\n",
    "criterion = nn.CrossEntropyLoss()"
   ]
  },
  {
   "cell_type": "code",
   "execution_count": 51,
   "metadata": {},
   "outputs": [
    {
     "name": "stdout",
     "output_type": "stream",
     "text": [
      "Epoch [1/15], Train Loss: 0.9873, Valid Loss: 0.9201, Train Acc: 0.5256, Val Acc: 0.5860\n",
      "Model saved to baseline_rnn\n",
      "Epoch [2/15], Train Loss: 0.8885, Valid Loss: 0.8408, Train Acc: 0.6049, Val Acc: 0.6301\n",
      "Model saved to baseline_rnn\n",
      "Epoch [3/15], Train Loss: 0.7973, Valid Loss: 0.7891, Train Acc: 0.6542, Val Acc: 0.6587\n",
      "Model saved to baseline_rnn\n",
      "Epoch [4/15], Train Loss: 0.7070, Valid Loss: 0.7429, Train Acc: 0.7077, Val Acc: 0.6873\n",
      "Model saved to baseline_rnn\n",
      "Epoch [5/15], Train Loss: 0.6335, Valid Loss: 0.7053, Train Acc: 0.7488, Val Acc: 0.7015\n",
      "Model saved to baseline_rnn\n",
      "Epoch [6/15], Train Loss: 0.5634, Valid Loss: 0.6928, Train Acc: 0.7809, Val Acc: 0.7219\n",
      "Model saved to baseline_rnn\n",
      "Epoch [7/15], Train Loss: 0.5108, Valid Loss: 0.6706, Train Acc: 0.8098, Val Acc: 0.7405\n",
      "Model saved to baseline_rnn\n",
      "Epoch [8/15], Train Loss: 0.4657, Valid Loss: 0.6973, Train Acc: 0.8295, Val Acc: 0.7345\n",
      "Epoch [9/15], Train Loss: 0.4267, Valid Loss: 0.6921, Train Acc: 0.8483, Val Acc: 0.7402\n",
      "Epoch [10/15], Train Loss: 0.3955, Valid Loss: 0.6835, Train Acc: 0.8601, Val Acc: 0.7487\n",
      "Model saved to baseline_rnn\n",
      "Epoch [11/15], Train Loss: 0.3662, Valid Loss: 0.6939, Train Acc: 0.8726, Val Acc: 0.7502\n",
      "Model saved to baseline_rnn\n",
      "Epoch [12/15], Train Loss: 0.3418, Valid Loss: 0.6903, Train Acc: 0.8841, Val Acc: 0.7455\n",
      "Epoch [13/15], Train Loss: 0.3080, Valid Loss: 0.7247, Train Acc: 0.8945, Val Acc: 0.7358\n",
      "Epoch [14/15], Train Loss: 0.2967, Valid Loss: 0.7559, Train Acc: 0.9014, Val Acc: 0.7417\n",
      "Epoch [15/15], Train Loss: 0.2807, Valid Loss: 0.7632, Train Acc: 0.9051, Val Acc: 0.7521\n",
      "Model saved to baseline_rnn\n"
     ]
    }
   ],
   "source": [
    "model = Net(0, len(txt_field.vocab), 50, 64, 1, 0.5).cuda()\n",
    "save_name = 'baseline_rnn'\n",
    "optimizer = Adam(model.parameters())\n",
    "base_train_loss, base_val_loss, base_acc = TRAIN(model, train_iter, val_iter,  n_epochs, criterion, optimizer, val_acc, device, save_name)"
   ]
  },
  {
   "cell_type": "code",
   "execution_count": 52,
   "metadata": {},
   "outputs": [
    {
     "name": "stdout",
     "output_type": "stream",
     "text": [
      "Epoch [1/15], Train Loss: 0.9614, Valid Loss: 0.8842, Train Acc: 0.5362, Val Acc: 0.6021\n",
      "Model saved to gru\n",
      "Epoch [2/15], Train Loss: 0.8069, Valid Loss: 0.7561, Train Acc: 0.6421, Val Acc: 0.6659\n",
      "Model saved to gru\n",
      "Epoch [3/15], Train Loss: 0.6657, Valid Loss: 0.6817, Train Acc: 0.7213, Val Acc: 0.7065\n",
      "Model saved to gru\n",
      "Epoch [4/15], Train Loss: 0.5711, Valid Loss: 0.6533, Train Acc: 0.7683, Val Acc: 0.7238\n",
      "Model saved to gru\n",
      "Epoch [5/15], Train Loss: 0.4983, Valid Loss: 0.6704, Train Acc: 0.8049, Val Acc: 0.7323\n",
      "Model saved to gru\n",
      "Epoch [6/15], Train Loss: 0.4396, Valid Loss: 0.6496, Train Acc: 0.8305, Val Acc: 0.7458\n",
      "Model saved to gru\n",
      "Epoch [7/15], Train Loss: 0.3894, Valid Loss: 0.6579, Train Acc: 0.8567, Val Acc: 0.7502\n",
      "Model saved to gru\n",
      "Epoch [8/15], Train Loss: 0.3471, Valid Loss: 0.6954, Train Acc: 0.8722, Val Acc: 0.7512\n",
      "Model saved to gru\n",
      "Epoch [9/15], Train Loss: 0.3055, Valid Loss: 0.7343, Train Acc: 0.8901, Val Acc: 0.7515\n",
      "Model saved to gru\n",
      "Epoch [10/15], Train Loss: 0.2689, Valid Loss: 0.7748, Train Acc: 0.9037, Val Acc: 0.7493\n",
      "Epoch [11/15], Train Loss: 0.2352, Valid Loss: 0.8127, Train Acc: 0.9180, Val Acc: 0.7452\n",
      "Epoch [12/15], Train Loss: 0.2177, Valid Loss: 0.8437, Train Acc: 0.9240, Val Acc: 0.7515\n",
      "Epoch [13/15], Train Loss: 0.1882, Valid Loss: 0.9029, Train Acc: 0.9349, Val Acc: 0.7550\n",
      "Model saved to gru\n",
      "Epoch [14/15], Train Loss: 0.1659, Valid Loss: 0.9797, Train Acc: 0.9431, Val Acc: 0.7490\n",
      "Epoch [15/15], Train Loss: 0.1518, Valid Loss: 1.0086, Train Acc: 0.9482, Val Acc: 0.7509\n"
     ]
    }
   ],
   "source": [
    "model = Net(1, len(txt_field.vocab), 50, 64, 1, 0.5).cuda()\n",
    "save_name = 'gru'\n",
    "optimizer = Adam(model.parameters())\n",
    "gru_train_loss, gru_val_loss, gru_acc = TRAIN(model, train_iter, val_iter,  n_epochs, criterion, optimizer, val_acc, device, save_name)"
   ]
  },
  {
   "cell_type": "code",
   "execution_count": 53,
   "metadata": {},
   "outputs": [
    {
     "name": "stdout",
     "output_type": "stream",
     "text": [
      "Epoch [1/15], Train Loss: 0.9508, Valid Loss: 0.8599, Train Acc: 0.5509, Val Acc: 0.6209\n",
      "Model saved to lstm\n",
      "Epoch [2/15], Train Loss: 0.7815, Valid Loss: 0.7497, Train Acc: 0.6541, Val Acc: 0.6788\n",
      "Model saved to lstm\n",
      "Epoch [3/15], Train Loss: 0.6505, Valid Loss: 0.6865, Train Acc: 0.7346, Val Acc: 0.7169\n",
      "Model saved to lstm\n",
      "Epoch [4/15], Train Loss: 0.5530, Valid Loss: 0.6488, Train Acc: 0.7795, Val Acc: 0.7295\n",
      "Model saved to lstm\n",
      "Epoch [5/15], Train Loss: 0.4775, Valid Loss: 0.6468, Train Acc: 0.8145, Val Acc: 0.7414\n",
      "Model saved to lstm\n",
      "Epoch [6/15], Train Loss: 0.4194, Valid Loss: 0.6478, Train Acc: 0.8397, Val Acc: 0.7490\n",
      "Model saved to lstm\n",
      "Epoch [7/15], Train Loss: 0.3705, Valid Loss: 0.6815, Train Acc: 0.8591, Val Acc: 0.7512\n",
      "Model saved to lstm\n",
      "Epoch [8/15], Train Loss: 0.3250, Valid Loss: 0.7178, Train Acc: 0.8783, Val Acc: 0.7483\n",
      "Epoch [9/15], Train Loss: 0.2856, Valid Loss: 0.7590, Train Acc: 0.8942, Val Acc: 0.7493\n",
      "Epoch [10/15], Train Loss: 0.2524, Valid Loss: 0.8025, Train Acc: 0.9090, Val Acc: 0.7499\n",
      "Epoch [11/15], Train Loss: 0.2186, Valid Loss: 0.8822, Train Acc: 0.9230, Val Acc: 0.7483\n",
      "Epoch [12/15], Train Loss: 0.1971, Valid Loss: 0.9172, Train Acc: 0.9322, Val Acc: 0.7468\n",
      "Epoch [13/15], Train Loss: 0.1755, Valid Loss: 0.9430, Train Acc: 0.9396, Val Acc: 0.7474\n",
      "Epoch [14/15], Train Loss: 0.1581, Valid Loss: 1.0246, Train Acc: 0.9449, Val Acc: 0.7483\n",
      "Epoch [15/15], Train Loss: 0.1367, Valid Loss: 1.0443, Train Acc: 0.9558, Val Acc: 0.7433\n"
     ]
    }
   ],
   "source": [
    "model = Net(2, len(txt_field.vocab), 50, 64, 1, 0.5).cuda()\n",
    "save_name = 'lstm'\n",
    "optimizer = Adam(model.parameters())\n",
    "lstm_train_loss, lstm_val_loss, lstm_acc = TRAIN(model, train_iter, val_iter,  n_epochs, criterion, optimizer, val_acc, device, save_name)"
   ]
  },
  {
   "cell_type": "code",
   "execution_count": 54,
   "metadata": {},
   "outputs": [
    {
     "name": "stdout",
     "output_type": "stream",
     "text": [
      "Epoch [1/15], Train Loss: 0.9224, Valid Loss: 0.8251, Train Acc: 0.5562, Val Acc: 0.6238\n",
      "Model saved to bilstm\n",
      "Epoch [2/15], Train Loss: 0.7443, Valid Loss: 0.7112, Train Acc: 0.6675, Val Acc: 0.6798\n",
      "Model saved to bilstm\n",
      "Epoch [3/15], Train Loss: 0.6162, Valid Loss: 0.6614, Train Acc: 0.7389, Val Acc: 0.7109\n",
      "Model saved to bilstm\n",
      "Epoch [4/15], Train Loss: 0.5163, Valid Loss: 0.6501, Train Acc: 0.7889, Val Acc: 0.7232\n",
      "Model saved to bilstm\n",
      "Epoch [5/15], Train Loss: 0.4432, Valid Loss: 0.6586, Train Acc: 0.8267, Val Acc: 0.7229\n",
      "Epoch [6/15], Train Loss: 0.3739, Valid Loss: 0.6841, Train Acc: 0.8563, Val Acc: 0.7326\n",
      "Model saved to bilstm\n",
      "Epoch [7/15], Train Loss: 0.3104, Valid Loss: 0.7197, Train Acc: 0.8821, Val Acc: 0.7304\n",
      "Epoch [8/15], Train Loss: 0.2590, Valid Loss: 0.7884, Train Acc: 0.9046, Val Acc: 0.7339\n",
      "Model saved to bilstm\n",
      "Epoch [9/15], Train Loss: 0.2153, Valid Loss: 0.8647, Train Acc: 0.9219, Val Acc: 0.7276\n",
      "Epoch [10/15], Train Loss: 0.1781, Valid Loss: 0.9407, Train Acc: 0.9380, Val Acc: 0.7332\n",
      "Epoch [11/15], Train Loss: 0.1533, Valid Loss: 1.0065, Train Acc: 0.9458, Val Acc: 0.7298\n",
      "Epoch [12/15], Train Loss: 0.1321, Valid Loss: 1.0904, Train Acc: 0.9542, Val Acc: 0.7323\n",
      "Epoch [13/15], Train Loss: 0.1145, Valid Loss: 1.1440, Train Acc: 0.9600, Val Acc: 0.7355\n",
      "Model saved to bilstm\n",
      "Epoch [14/15], Train Loss: 0.1100, Valid Loss: 1.2013, Train Acc: 0.9625, Val Acc: 0.7373\n",
      "Model saved to bilstm\n",
      "Epoch [15/15], Train Loss: 0.0934, Valid Loss: 1.2504, Train Acc: 0.9690, Val Acc: 0.7436\n",
      "Model saved to bilstm\n"
     ]
    }
   ],
   "source": [
    "model = Net(3, len(txt_field.vocab), 50, 64, 1, 0.5).cuda()\n",
    "save_name = 'bilstm'\n",
    "optimizer = Adam(model.parameters())\n",
    "bilstm_train_loss, bilstm_val_loss, bilstm_acc = TRAIN(model, train_iter, val_iter,  n_epochs, criterion, optimizer, val_acc, device, save_name)"
   ]
  },
  {
   "cell_type": "code",
   "execution_count": 55,
   "metadata": {},
   "outputs": [
    {
     "data": {
      "image/png": "[encoded data removed]",
      "text/plain": [
       "<Figure size 1080x720 with 1 Axes>"
      ]
     },
     "metadata": {
      "needs_background": "light"
     },
     "output_type": "display_data"
    }
   ],
   "source": [
    "plt.figure(figsize=(15, 10))\n",
    "plt.plot(base_train_loss, c='red', label=\"Base Training loss\")\n",
    "plt.plot(gru_train_loss, c='green', label=\"GRU Training loss\")\n",
    "plt.plot(lstm_train_loss, c='blue', label=\"LSTM Training loss\")\n",
    "plt.plot(bilstm_train_loss, c='orange', label=\"BiLSTM Training loss\")\n",
    "\n",
    "plt.plot(base_val_loss, c='red', linestyle='--', label=\"Base Validation loss\")\n",
    "plt.plot(gru_val_loss, c='green', linestyle='--', label=\"GRU Validation loss\")\n",
    "plt.plot(lstm_val_loss, c='blue', linestyle='--', label=\"LSTM Validation loss\")\n",
    "plt.plot(bilstm_val_loss, c='orange', linestyle='--', label=\"BiLSTM Validation loss\")\n",
    "\n",
    "plt.legend()\n",
    "plt.show()"
   ]
  },
  {
   "cell_type": "code",
   "execution_count": 56,
   "metadata": {},
   "outputs": [
    {
     "data": {
      "text/plain": [
       "tensor([0.7521, 0.7550, 0.7512, 0.7436])"
      ]
     },
     "execution_count": 56,
     "metadata": {},
     "output_type": "execute_result"
    }
   ],
   "source": [
    "torch.FloatTensor([base_acc, gru_acc, lstm_acc, bilstm_acc])"
   ]
  },
  {
   "cell_type": "code",
   "execution_count": 57,
   "metadata": {},
   "outputs": [],
   "source": [
    "from torchtext.vocab import GloVe as glove\n",
    "glove_vocab = glove('6B', 50)\n",
    "n_epochs = 6"
   ]
  },
  {
   "cell_type": "code",
   "execution_count": 58,
   "metadata": {},
   "outputs": [
    {
     "name": "stdout",
     "output_type": "stream",
     "text": [
      "Epoch [1/6], Train Loss: 0.9848, Valid Loss: 0.9483, Train Acc: 0.5239, Val Acc: 0.5483\n",
      "Model saved to rnn_glove_freeze\n",
      "Epoch [2/6], Train Loss: 0.9523, Valid Loss: 0.9503, Train Acc: 0.5490, Val Acc: 0.5558\n",
      "Model saved to rnn_glove_freeze\n",
      "Epoch [3/6], Train Loss: 0.9397, Valid Loss: 0.9282, Train Acc: 0.5621, Val Acc: 0.5653\n",
      "Model saved to rnn_glove_freeze\n",
      "Epoch [4/6], Train Loss: 0.9283, Valid Loss: 0.9301, Train Acc: 0.5681, Val Acc: 0.5640\n",
      "Epoch [5/6], Train Loss: 0.9234, Valid Loss: 0.9252, Train Acc: 0.5678, Val Acc: 0.5624\n",
      "Epoch [6/6], Train Loss: 0.9161, Valid Loss: 0.9180, Train Acc: 0.5748, Val Acc: 0.5650\n"
     ]
    }
   ],
   "source": [
    "model = Net(0, len(txt_field.vocab), 50, 64, 1, 0.5, glove_vocab.vectors).cuda()\n",
    "save_name = 'rnn_glove_freeze'\n",
    "optimizer = Adam(model.parameters())\n",
    "rnn_glove_freeze_train_loss, rnn_glove_freeze_val_loss, rnn_glove_freeze_acc = TRAIN(model, train_iter, val_iter,  n_epochs, criterion, optimizer, val_acc, device, save_name)"
   ]
  },
  {
   "cell_type": "code",
   "execution_count": 59,
   "metadata": {},
   "outputs": [
    {
     "name": "stdout",
     "output_type": "stream",
     "text": [
      "Epoch [1/6], Train Loss: 0.9750, Valid Loss: 0.9359, Train Acc: 0.5335, Val Acc: 0.5584\n",
      "Model saved to gru_glove_freeze\n",
      "Epoch [2/6], Train Loss: 0.9295, Valid Loss: 0.9115, Train Acc: 0.5615, Val Acc: 0.5753\n",
      "Model saved to gru_glove_freeze\n",
      "Epoch [3/6], Train Loss: 0.9047, Valid Loss: 0.9149, Train Acc: 0.5764, Val Acc: 0.5672\n",
      "Epoch [4/6], Train Loss: 0.8782, Valid Loss: 0.8786, Train Acc: 0.5937, Val Acc: 0.5829\n",
      "Model saved to gru_glove_freeze\n",
      "Epoch [5/6], Train Loss: 0.8566, Valid Loss: 0.8726, Train Acc: 0.6041, Val Acc: 0.5904\n",
      "Model saved to gru_glove_freeze\n",
      "Epoch [6/6], Train Loss: 0.8323, Valid Loss: 0.8510, Train Acc: 0.6190, Val Acc: 0.5999\n",
      "Model saved to gru_glove_freeze\n"
     ]
    }
   ],
   "source": [
    "model = Net(1, len(txt_field.vocab), 50, 64, 1, 0.5, glove_vocab.vectors).cuda()\n",
    "save_name = 'gru_glove_freeze'\n",
    "optimizer = Adam(model.parameters())\n",
    "gru_glove_freeze_train_loss, gru_glove_freeze_val_loss, gru_glove_freeze_acc = TRAIN(model, train_iter, val_iter,  n_epochs, criterion, optimizer, val_acc, device, save_name)"
   ]
  },
  {
   "cell_type": "code",
   "execution_count": 60,
   "metadata": {},
   "outputs": [
    {
     "name": "stdout",
     "output_type": "stream",
     "text": [
      "Epoch [1/6], Train Loss: 0.9770, Valid Loss: 0.9405, Train Acc: 0.5241, Val Acc: 0.5580\n",
      "Model saved to lstm_glove_freeze\n",
      "Epoch [2/6], Train Loss: 0.9272, Valid Loss: 0.9159, Train Acc: 0.5642, Val Acc: 0.5719\n",
      "Model saved to lstm_glove_freeze\n",
      "Epoch [3/6], Train Loss: 0.9115, Valid Loss: 0.9043, Train Acc: 0.5728, Val Acc: 0.5797\n",
      "Model saved to lstm_glove_freeze\n",
      "Epoch [4/6], Train Loss: 0.8929, Valid Loss: 0.8907, Train Acc: 0.5841, Val Acc: 0.5835\n",
      "Model saved to lstm_glove_freeze\n",
      "Epoch [5/6], Train Loss: 0.8764, Valid Loss: 0.8876, Train Acc: 0.5963, Val Acc: 0.5826\n",
      "Epoch [6/6], Train Loss: 0.8609, Valid Loss: 0.8681, Train Acc: 0.6031, Val Acc: 0.5920\n",
      "Model saved to lstm_glove_freeze\n"
     ]
    }
   ],
   "source": [
    "model = Net(2, len(txt_field.vocab), 50, 64, 1, 0.5, glove_vocab.vectors).cuda()\n",
    "save_name = 'lstm_glove_freeze'\n",
    "optimizer = Adam(model.parameters())\n",
    "lstm_glove_freeze_train_loss, lstm_glove_freeze_val_loss, lstm_glove_freeze_acc = TRAIN(model, train_iter, val_iter,  n_epochs, criterion, optimizer, val_acc, device, save_name)"
   ]
  },
  {
   "cell_type": "code",
   "execution_count": 61,
   "metadata": {},
   "outputs": [
    {
     "name": "stdout",
     "output_type": "stream",
     "text": [
      "Epoch [1/6], Train Loss: 0.9596, Valid Loss: 0.9201, Train Acc: 0.5415, Val Acc: 0.5643\n",
      "Model saved to bilstm_glove_freeze\n",
      "Epoch [2/6], Train Loss: 0.9115, Valid Loss: 0.9014, Train Acc: 0.5727, Val Acc: 0.5678\n",
      "Model saved to bilstm_glove_freeze\n",
      "Epoch [3/6], Train Loss: 0.8886, Valid Loss: 0.8950, Train Acc: 0.5824, Val Acc: 0.5697\n",
      "Model saved to bilstm_glove_freeze\n",
      "Epoch [4/6], Train Loss: 0.8687, Valid Loss: 0.8783, Train Acc: 0.5975, Val Acc: 0.5769\n",
      "Model saved to bilstm_glove_freeze\n",
      "Epoch [5/6], Train Loss: 0.8444, Valid Loss: 0.8747, Train Acc: 0.6134, Val Acc: 0.5848\n",
      "Model saved to bilstm_glove_freeze\n",
      "Epoch [6/6], Train Loss: 0.8197, Valid Loss: 0.8585, Train Acc: 0.6249, Val Acc: 0.5977\n",
      "Model saved to bilstm_glove_freeze\n"
     ]
    }
   ],
   "source": [
    "model = Net(3, len(txt_field.vocab), 50, 64, 1, 0.5, glove_vocab.vectors).cuda()\n",
    "save_name = 'bilstm_glove_freeze'\n",
    "optimizer = Adam(model.parameters())\n",
    "bilstm_glove_freeze_train_loss, bilstm_glove_freeze_val_loss, bilstm_glove_freeze_acc = TRAIN(model, train_iter, val_iter,  n_epochs, criterion, optimizer, val_acc, device, save_name)"
   ]
  },
  {
   "cell_type": "code",
   "execution_count": 62,
   "metadata": {},
   "outputs": [
    {
     "data": {
      "image/png": "[encoded data removed]",
      "text/plain": [
       "<Figure size 1080x720 with 1 Axes>"
      ]
     },
     "metadata": {
      "needs_background": "light"
     },
     "output_type": "display_data"
    }
   ],
   "source": [
    "plt.figure(figsize=(15, 10))\n",
    "plt.plot(rnn_glove_freeze_train_loss, c='red', label=\"Base Training loss\")\n",
    "plt.plot(gru_glove_freeze_train_loss, c='green', label=\"GRU Training loss\")\n",
    "plt.plot(lstm_glove_freeze_train_loss, c='blue', label=\"LSTM Training loss\")\n",
    "plt.plot(bilstm_glove_freeze_train_loss, c='orange', label=\"BiLSTM Training loss\")\n",
    "\n",
    "plt.plot(rnn_glove_freeze_val_loss, c='red', linestyle='--', label=\"Base Validation loss\")\n",
    "plt.plot(gru_glove_freeze_val_loss, c='green', linestyle='--', label=\"GRU Validation loss\")\n",
    "plt.plot(lstm_glove_freeze_val_loss, c='blue', linestyle='--', label=\"LSTM Validation loss\")\n",
    "plt.plot(bilstm_glove_freeze_val_loss, c='orange', linestyle='--', label=\"BiLSTM Validation loss\")\n",
    "\n",
    "plt.legend()\n",
    "plt.show()"
   ]
  },
  {
   "cell_type": "code",
   "execution_count": 63,
   "metadata": {},
   "outputs": [
    {
     "name": "stdout",
     "output_type": "stream",
     "text": [
      "Epoch [1/6], Train Loss: 0.9714, Valid Loss: 0.9096, Train Acc: 0.5304, Val Acc: 0.5848\n",
      "Model saved to rnn_glove_trainable\n",
      "Epoch [2/6], Train Loss: 0.8310, Valid Loss: 0.7646, Train Acc: 0.6345, Val Acc: 0.6760\n",
      "Model saved to rnn_glove_trainable\n",
      "Epoch [3/6], Train Loss: 0.6468, Valid Loss: 0.6716, Train Acc: 0.7437, Val Acc: 0.7216\n",
      "Model saved to rnn_glove_trainable\n",
      "Epoch [4/6], Train Loss: 0.5124, Valid Loss: 0.6613, Train Acc: 0.8046, Val Acc: 0.7421\n",
      "Model saved to rnn_glove_trainable\n",
      "Epoch [5/6], Train Loss: 0.4350, Valid Loss: 0.6334, Train Acc: 0.8399, Val Acc: 0.7436\n",
      "Model saved to rnn_glove_trainable\n",
      "Epoch [6/6], Train Loss: 0.3797, Valid Loss: 0.6266, Train Acc: 0.8599, Val Acc: 0.7600\n",
      "Model saved to rnn_glove_trainable\n"
     ]
    }
   ],
   "source": [
    "model = Net(0, len(txt_field.vocab), 50, 64, 1, 0.5, glove_vocab.vectors, False).cuda()\n",
    "save_name = 'rnn_glove_trainable'\n",
    "optimizer = Adam(model.parameters())\n",
    "rnn_glove_trainable_train_loss, rnn_glove_trainable_val_loss, rnn_glove_trainable_acc = TRAIN(model, train_iter, val_iter,  n_epochs, criterion, optimizer, val_acc, device, save_name)"
   ]
  },
  {
   "cell_type": "code",
   "execution_count": 64,
   "metadata": {},
   "outputs": [
    {
     "name": "stdout",
     "output_type": "stream",
     "text": [
      "Epoch [1/6], Train Loss: 0.9612, Valid Loss: 0.8912, Train Acc: 0.5440, Val Acc: 0.5640\n",
      "Model saved to gru_glove_trainable\n",
      "Epoch [2/6], Train Loss: 0.7251, Valid Loss: 0.6317, Train Acc: 0.6874, Val Acc: 0.7358\n",
      "Model saved to gru_glove_trainable\n",
      "Epoch [3/6], Train Loss: 0.5118, Valid Loss: 0.5779, Train Acc: 0.8012, Val Acc: 0.7600\n",
      "Model saved to gru_glove_trainable\n",
      "Epoch [4/6], Train Loss: 0.4193, Valid Loss: 0.5570, Train Acc: 0.8391, Val Acc: 0.7732\n",
      "Model saved to gru_glove_trainable\n",
      "Epoch [5/6], Train Loss: 0.3581, Valid Loss: 0.6205, Train Acc: 0.8685, Val Acc: 0.7653\n",
      "Epoch [6/6], Train Loss: 0.3175, Valid Loss: 0.6043, Train Acc: 0.8853, Val Acc: 0.7694\n"
     ]
    }
   ],
   "source": [
    "model = Net(1, len(txt_field.vocab), 50, 64, 1, 0.5, glove_vocab.vectors, False).cuda()\n",
    "save_name = 'gru_glove_trainable'\n",
    "optimizer = Adam(model.parameters())\n",
    "gru_glove_trainable_train_loss, gru_glove_trainable_val_loss, gru_glove_trainable_acc = TRAIN(model, train_iter, val_iter,  n_epochs, criterion, optimizer, val_acc, device, save_name)"
   ]
  },
  {
   "cell_type": "code",
   "execution_count": 65,
   "metadata": {},
   "outputs": [
    {
     "name": "stdout",
     "output_type": "stream",
     "text": [
      "Epoch [1/6], Train Loss: 0.9530, Valid Loss: 0.8533, Train Acc: 0.5462, Val Acc: 0.6175\n",
      "Model saved to lstm_glove_trainable\n",
      "Epoch [2/6], Train Loss: 0.7257, Valid Loss: 0.6852, Train Acc: 0.6909, Val Acc: 0.7068\n",
      "Model saved to lstm_glove_trainable\n",
      "Epoch [3/6], Train Loss: 0.5407, Valid Loss: 0.6122, Train Acc: 0.7915, Val Acc: 0.7414\n",
      "Model saved to lstm_glove_trainable\n",
      "Epoch [4/6], Train Loss: 0.4433, Valid Loss: 0.5893, Train Acc: 0.8344, Val Acc: 0.7647\n",
      "Model saved to lstm_glove_trainable\n",
      "Epoch [5/6], Train Loss: 0.3824, Valid Loss: 0.6481, Train Acc: 0.8594, Val Acc: 0.7556\n",
      "Epoch [6/6], Train Loss: 0.3382, Valid Loss: 0.6193, Train Acc: 0.8778, Val Acc: 0.7710\n",
      "Model saved to lstm_glove_trainable\n"
     ]
    }
   ],
   "source": [
    "model = Net(2, len(txt_field.vocab), 50, 64, 1, 0.5, glove_vocab.vectors, False).cuda()\n",
    "save_name = 'lstm_glove_trainable'\n",
    "optimizer = Adam(model.parameters())\n",
    "lstm_glove_trainable_train_loss, lstm_glove_trainable_val_loss, lstm_glove_trainable_acc = TRAIN(model, train_iter, val_iter,  n_epochs, criterion, optimizer, val_acc, device, save_name)"
   ]
  },
  {
   "cell_type": "code",
   "execution_count": 66,
   "metadata": {},
   "outputs": [
    {
     "name": "stdout",
     "output_type": "stream",
     "text": [
      "Epoch [1/6], Train Loss: 0.9358, Valid Loss: 0.8360, Train Acc: 0.5560, Val Acc: 0.6125\n",
      "Model saved to bilstm_glove_trainable\n",
      "Epoch [2/6], Train Loss: 0.7109, Valid Loss: 0.6539, Train Acc: 0.6962, Val Acc: 0.7238\n",
      "Model saved to bilstm_glove_trainable\n",
      "Epoch [3/6], Train Loss: 0.5242, Valid Loss: 0.5791, Train Acc: 0.7933, Val Acc: 0.7603\n",
      "Model saved to bilstm_glove_trainable\n",
      "Epoch [4/6], Train Loss: 0.4269, Valid Loss: 0.5795, Train Acc: 0.8378, Val Acc: 0.7679\n",
      "Model saved to bilstm_glove_trainable\n",
      "Epoch [5/6], Train Loss: 0.3628, Valid Loss: 0.6268, Train Acc: 0.8649, Val Acc: 0.7666\n",
      "Epoch [6/6], Train Loss: 0.3200, Valid Loss: 0.6044, Train Acc: 0.8793, Val Acc: 0.7754\n",
      "Model saved to bilstm_glove_trainable\n"
     ]
    }
   ],
   "source": [
    "model = Net(3, len(txt_field.vocab), 50, 64, 1, 0.5, glove_vocab.vectors, False).cuda()\n",
    "save_name = 'bilstm_glove_trainable'\n",
    "optimizer = Adam(model.parameters())\n",
    "bilstm_glove_trainable_train_loss, bilstm_glove_trainable_val_loss, bilstm_glove_trainable_acc = TRAIN(model, train_iter, val_iter,  n_epochs, criterion, optimizer, val_acc, device, save_name)"
   ]
  },
  {
   "cell_type": "code",
   "execution_count": 67,
   "metadata": {},
   "outputs": [
    {
     "data": {
      "image/png": "[encoded data removed]",
      "text/plain": [
       "<Figure size 1080x720 with 1 Axes>"
      ]
     },
     "metadata": {
      "needs_background": "light"
     },
     "output_type": "display_data"
    }
   ],
   "source": [
    "plt.figure(figsize=(15, 10))\n",
    "plt.plot(rnn_glove_trainable_train_loss, c='red', label=\"Base Training loss\")\n",
    "plt.plot(gru_glove_trainable_train_loss, c='green', label=\"GRU Training loss\")\n",
    "plt.plot(lstm_glove_trainable_train_loss, c='blue', label=\"LSTM Training loss\")\n",
    "plt.plot(bilstm_glove_trainable_train_loss, c='orange', label=\"BiLSTM Training loss\")\n",
    "\n",
    "plt.plot(rnn_glove_trainable_val_loss, c='red', linestyle='--', label=\"Base Validation loss\")\n",
    "plt.plot(gru_glove_trainable_val_loss, c='green', linestyle='--', label=\"GRU Validation loss\")\n",
    "plt.plot(lstm_glove_trainable_val_loss, c='blue', linestyle='--', label=\"LSTM Validation loss\")\n",
    "plt.plot(bilstm_glove_trainable_val_loss, c='orange', linestyle='--', label=\"BiLSTM Validation loss\")\n",
    "\n",
    "plt.legend()\n",
    "plt.show()"
   ]
  },
  {
   "cell_type": "code",
   "execution_count": 68,
   "metadata": {},
   "outputs": [
    {
     "data": {
      "text/plain": [
       "tensor([0.5653, 0.5999, 0.5920, 0.5977, 0.7600, 0.7732, 0.7710, 0.7754])"
      ]
     },
     "execution_count": 68,
     "metadata": {},
     "output_type": "execute_result"
    }
   ],
   "source": [
    "torch.FloatTensor([rnn_glove_freeze_acc, gru_glove_freeze_acc, lstm_glove_freeze_acc, bilstm_glove_freeze_acc, \n",
    "                   rnn_glove_trainable_acc, gru_glove_trainable_acc, lstm_glove_trainable_acc, bilstm_glove_trainable_acc])"
   ]
  },
  {
   "cell_type": "code",
   "execution_count": 69,
   "metadata": {},
   "outputs": [
    {
     "name": "stdout",
     "output_type": "stream",
     "text": [
      "Epoch [1/6], Train Loss: 0.9366, Valid Loss: 0.8461, Train Acc: 0.5559, Val Acc: 0.6143\n",
      "Model saved to bilstm_glove_trainable_kaiming\n",
      "Epoch [2/6], Train Loss: 0.7421, Valid Loss: 0.6687, Train Acc: 0.6732, Val Acc: 0.7100\n",
      "Model saved to bilstm_glove_trainable_kaiming\n",
      "Epoch [3/6], Train Loss: 0.5544, Valid Loss: 0.6081, Train Acc: 0.7770, Val Acc: 0.7433\n",
      "Model saved to bilstm_glove_trainable_kaiming\n",
      "Epoch [4/6], Train Loss: 0.4480, Valid Loss: 0.5965, Train Acc: 0.8295, Val Acc: 0.7622\n",
      "Model saved to bilstm_glove_trainable_kaiming\n",
      "Epoch [5/6], Train Loss: 0.3758, Valid Loss: 0.6276, Train Acc: 0.8579, Val Acc: 0.7638\n",
      "Model saved to bilstm_glove_trainable_kaiming\n",
      "Epoch [6/6], Train Loss: 0.3278, Valid Loss: 0.6148, Train Acc: 0.8791, Val Acc: 0.7597\n",
      "Epoch [1/6], Train Loss: 0.9307, Valid Loss: 0.8183, Train Acc: 0.5598, Val Acc: 0.6269\n",
      "Model saved to bilstm_glove_trainable_xavier\n",
      "Epoch [2/6], Train Loss: 0.7076, Valid Loss: 0.6799, Train Acc: 0.6949, Val Acc: 0.7090\n",
      "Model saved to bilstm_glove_trainable_xavier\n",
      "Epoch [3/6], Train Loss: 0.5207, Valid Loss: 0.5869, Train Acc: 0.7957, Val Acc: 0.7609\n",
      "Model saved to bilstm_glove_trainable_xavier\n",
      "Epoch [4/6], Train Loss: 0.4170, Valid Loss: 0.5988, Train Acc: 0.8395, Val Acc: 0.7565\n",
      "Epoch [5/6], Train Loss: 0.3575, Valid Loss: 0.6024, Train Acc: 0.8647, Val Acc: 0.7606\n",
      "Epoch [6/6], Train Loss: 0.3094, Valid Loss: 0.6250, Train Acc: 0.8858, Val Acc: 0.7653\n",
      "Model saved to bilstm_glove_trainable_xavier\n"
     ]
    }
   ],
   "source": [
    "model = Net(3, len(txt_field.vocab), 50, 64, 1, 0.5, glove_vocab.vectors, False, 0).cuda()\n",
    "save_name = 'bilstm_glove_trainable_kaiming'\n",
    "optimizer = Adam(model.parameters())\n",
    "bilstm_glove_trainable_kaiming_train_loss, bilstm_glove_trainable_kaiming_val_loss, bilstm_glove_trainable_kaiming_acc = TRAIN(model, train_iter, val_iter,  n_epochs, criterion, optimizer, val_acc, device, save_name)\n",
    "\n",
    "model = Net(3, len(txt_field.vocab), 50, 64, 1, 0.5, glove_vocab.vectors, False, 1).cuda()\n",
    "save_name = 'bilstm_glove_trainable_xavier'\n",
    "optimizer = Adam(model.parameters())\n",
    "bilstm_glove_trainable_xavier_train_loss, bilstm_glove_trainable_xavier_val_loss, bilstm_glove_trainable_xavier_acc = TRAIN(model, train_iter, val_iter,  n_epochs, criterion, optimizer, val_acc, device, save_name)"
   ]
  },
  {
   "cell_type": "code",
   "execution_count": 70,
   "metadata": {},
   "outputs": [
    {
     "data": {
      "image/png": "[encoded data removed]",
      "text/plain": [
       "<Figure size 1080x720 with 1 Axes>"
      ]
     },
     "metadata": {
      "needs_background": "light"
     },
     "output_type": "display_data"
    }
   ],
   "source": [
    "plt.figure(figsize=(15, 10))\n",
    "plt.plot(bilstm_glove_trainable_kaiming_train_loss, c='red', label=\"BiLSTM Training loss(Kaiming)\")\n",
    "plt.plot(bilstm_glove_trainable_xavier_train_loss, c='green', label=\"BiLSTM Training loss(Xavier)\")\n",
    "\n",
    "plt.plot(bilstm_glove_trainable_kaiming_val_loss, c='red', linestyle='--', label=\"BiLSTM Validation loss(Kaiming)\")\n",
    "plt.plot(bilstm_glove_trainable_xavier_val_loss, c='green', linestyle='--', label=\"BiLSTM Validation loss(Xavier)\")\n",
    "\n",
    "plt.plot(bilstm_glove_trainable_train_loss, c='orange', label=\"BiLSTM Training loss\")\n",
    "plt.plot(bilstm_glove_trainable_val_loss, c='orange', linestyle='--', label=\"BiLSTM Validation loss\")\n",
    "\n",
    "plt.legend()\n",
    "plt.show()"
   ]
  },
  {
   "cell_type": "code",
   "execution_count": 71,
   "metadata": {},
   "outputs": [
    {
     "name": "stdout",
     "output_type": "stream",
     "text": [
      "Model loaded from gru_glove_trainable, with best validation acc: 0.7731991192198804\n",
      "Model loaded from lstm_glove_trainable, with best validation acc: 0.7709971689210443\n",
      "Model loaded from bilstm_glove_trainable, with best validation acc: 0.7754010695187166\n"
     ]
    }
   ],
   "source": [
    "load_model1 = Net(1, len(txt_field.vocab), 50, 64, 1, 0.5, glove_vocab.vectors, False).cuda()\n",
    "load_model2 = Net(2, len(txt_field.vocab), 50, 64, 1, 0.5, glove_vocab.vectors, False).cuda()\n",
    "load_model3 = Net(3, len(txt_field.vocab), 50, 64, 1, 0.5, glove_vocab.vectors, False).cuda()\n",
    "\n",
    "load_optimizer1 = Adam(load_model1.parameters())\n",
    "load_optimizer2 = Adam(load_model2.parameters())\n",
    "load_optimizer3 = Adam(load_model3.parameters())\n",
    "\n",
    "save_path1 = 'gru_glove_trainable'\n",
    "save_path2 = 'lstm_glove_trainable'\n",
    "save_path3 = 'bilstm_glove_trainable'\n",
    "\n",
    "best_val_acc1 = load_checkpoint(save_path1, load_model1, load_optimizer1)\n",
    "best_val_acc2 = load_checkpoint(save_path2, load_model2, load_optimizer2)\n",
    "best_val_acc3 = load_checkpoint(save_path3, load_model3, load_optimizer3)"
   ]
  },
  {
   "cell_type": "code",
   "execution_count": 72,
   "metadata": {},
   "outputs": [],
   "source": [
    "def ensemble(model1,model2,model3, valid_loader, model1_acc=1, model2_acc=1, model3_acc=1):\n",
    "    with torch.no_grad():\n",
    "        model1.eval()\n",
    "        model2.eval()\n",
    "        model3.eval()\n",
    "        running_corrects = 0\n",
    "        running_labels = 0\n",
    "        for i, ((labels, (sent, sent_len)), _) in enumerate(valid_loader):\n",
    "            if(torch.max(sent_len) == 0):\n",
    "                    continue\n",
    "            sent = sent.cuda()\n",
    "            labels = labels.cuda()\n",
    "            \n",
    "            total_acc = model1_acc + model2_acc + model3_acc\n",
    "            \n",
    "            preds1 = model1(sent, sent_len).data\n",
    "            preds2 = model2(sent, sent_len).data\n",
    "            preds3 = model3(sent, sent_len).data\n",
    "            \n",
    "            preds = (preds1 * model1_acc + \n",
    "                     preds2 * model2_acc + \n",
    "                     preds3 * model3_acc) / total_acc\n",
    "            \n",
    "            _, preds = torch.max(preds, 1)\n",
    "\n",
    "            running_corrects += torch.sum(preds == labels.data)\n",
    "            running_labels += len(labels)\n",
    "        print(running_corrects.double() / running_labels)"
   ]
  },
  {
   "cell_type": "code",
   "execution_count": 73,
   "metadata": {},
   "outputs": [],
   "source": [
    "def test_model(model, test_loader):\n",
    "    with torch.no_grad():\n",
    "        model.eval()\n",
    "        running_corrects = 0\n",
    "        running_labels = 0\n",
    "        for i, ((labels, (sent, sent_len)), _) in enumerate(test_loader):\n",
    "            if(torch.max(sent_len) == 0):\n",
    "                    continue\n",
    "            sent = sent.cuda()\n",
    "            labels = labels.cuda()\n",
    "                        \n",
    "            preds = model(sent, sent_len).data  \n",
    "            _, preds = torch.max(preds, 1)\n",
    "            running_corrects += torch.sum(preds == labels.data)\n",
    "            running_labels += len(labels)\n",
    "            \n",
    "        print(running_corrects.double() / running_labels)"
   ]
  },
  {
   "cell_type": "code",
   "execution_count": 74,
   "metadata": {},
   "outputs": [
    {
     "name": "stdout",
     "output_type": "stream",
     "text": [
      "tensor(0.7653, device='cuda:0', dtype=torch.float64)\n"
     ]
    }
   ],
   "source": [
    "test_model(load_model3, test_iter)"
   ]
  },
  {
   "cell_type": "code",
   "execution_count": 75,
   "metadata": {},
   "outputs": [
    {
     "name": "stdout",
     "output_type": "stream",
     "text": [
      "tensor(0.7671, device='cuda:0', dtype=torch.float64)\n"
     ]
    }
   ],
   "source": [
    "ensemble(load_model1,load_model2,load_model3,test_iter)"
   ]
  },
  {
   "cell_type": "code",
   "execution_count": null,
   "metadata": {},
   "outputs": [],
   "source": []
  }
 ],
 "metadata": {
  "kernelspec": {
   "display_name": "Python 3",
   "language": "python",
   "name": "python3"
  },
  "language_info": {
   "codemirror_mode": {
    "name": "ipython",
    "version": 3
   },
   "file_extension": ".py",
   "mimetype": "text/x-python",
   "name": "python",
   "nbconvert_exporter": "python",
   "pygments_lexer": "ipython3",
   "version": "3.8.5"
  }
 },
 "nbformat": 4,
 "nbformat_minor": 4
}
